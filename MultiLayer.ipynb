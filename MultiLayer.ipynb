{
  "nbformat": 4,
  "nbformat_minor": 0,
  "metadata": {
    "colab": {
      "provenance": [],
      "gpuType": "T4",
      "authorship_tag": "ABX9TyOfpWkyIjC9coxD/NLrYzHN",
      "include_colab_link": true
    },
    "kernelspec": {
      "name": "python3",
      "display_name": "Python 3"
    },
    "language_info": {
      "name": "python"
    },
    "accelerator": "GPU"
  },
  "cells": [
    {
      "cell_type": "markdown",
      "metadata": {
        "id": "view-in-github",
        "colab_type": "text"
      },
      "source": [
        "<a href=\"https://colab.research.google.com/github/laurahsisson/smoker-status/blob/main/MultiLayer.ipynb\" target=\"_parent\"><img src=\"https://colab.research.google.com/assets/colab-badge.svg\" alt=\"Open In Colab\"/></a>"
      ]
    },
    {
      "cell_type": "markdown",
      "source": [
        "# Binary Prediction of Smoker Status using Bio-Signals\n",
        "[From Kaggle Playground Series](https://www.kaggle.com/competitions/playground-series-s3e24/overview)"
      ],
      "metadata": {
        "id": "2s7CME-pxCL1"
      }
    },
    {
      "cell_type": "code",
      "execution_count": 12,
      "metadata": {
        "id": "7lf0VwjIw7L4"
      },
      "outputs": [],
      "source": [
        "import pandas as pd\n",
        "import torch\n",
        "import sklearn\n",
        "import sklearn.model_selection"
      ]
    },
    {
      "cell_type": "code",
      "source": [
        "%pip install torchmetrics\n",
        "import torchmetrics"
      ],
      "metadata": {
        "colab": {
          "base_uri": "https://localhost:8080/"
        },
        "id": "VwUIgVpq96Cs",
        "outputId": "d41d34c3-976e-485a-da65-de6a2c3dfee0"
      },
      "execution_count": 13,
      "outputs": [
        {
          "output_type": "stream",
          "name": "stdout",
          "text": [
            "Requirement already satisfied: torchmetrics in /usr/local/lib/python3.10/dist-packages (1.2.0)\n",
            "Requirement already satisfied: numpy>1.20.0 in /usr/local/lib/python3.10/dist-packages (from torchmetrics) (1.23.5)\n",
            "Requirement already satisfied: torch>=1.8.1 in /usr/local/lib/python3.10/dist-packages (from torchmetrics) (2.1.0+cu118)\n",
            "Requirement already satisfied: lightning-utilities>=0.8.0 in /usr/local/lib/python3.10/dist-packages (from torchmetrics) (0.9.0)\n",
            "Requirement already satisfied: packaging>=17.1 in /usr/local/lib/python3.10/dist-packages (from lightning-utilities>=0.8.0->torchmetrics) (23.2)\n",
            "Requirement already satisfied: typing-extensions in /usr/local/lib/python3.10/dist-packages (from lightning-utilities>=0.8.0->torchmetrics) (4.5.0)\n",
            "Requirement already satisfied: filelock in /usr/local/lib/python3.10/dist-packages (from torch>=1.8.1->torchmetrics) (3.12.4)\n",
            "Requirement already satisfied: sympy in /usr/local/lib/python3.10/dist-packages (from torch>=1.8.1->torchmetrics) (1.12)\n",
            "Requirement already satisfied: networkx in /usr/local/lib/python3.10/dist-packages (from torch>=1.8.1->torchmetrics) (3.2)\n",
            "Requirement already satisfied: jinja2 in /usr/local/lib/python3.10/dist-packages (from torch>=1.8.1->torchmetrics) (3.1.2)\n",
            "Requirement already satisfied: fsspec in /usr/local/lib/python3.10/dist-packages (from torch>=1.8.1->torchmetrics) (2023.6.0)\n",
            "Requirement already satisfied: triton==2.1.0 in /usr/local/lib/python3.10/dist-packages (from torch>=1.8.1->torchmetrics) (2.1.0)\n",
            "Requirement already satisfied: MarkupSafe>=2.0 in /usr/local/lib/python3.10/dist-packages (from jinja2->torch>=1.8.1->torchmetrics) (2.1.3)\n",
            "Requirement already satisfied: mpmath>=0.19 in /usr/local/lib/python3.10/dist-packages (from sympy->torch>=1.8.1->torchmetrics) (1.3.0)\n"
          ]
        }
      ]
    },
    {
      "cell_type": "code",
      "source": [
        "%pip install optuna\n",
        "import optuna"
      ],
      "metadata": {
        "colab": {
          "base_uri": "https://localhost:8080/"
        },
        "id": "bm_9H93q-VQ5",
        "outputId": "57c7b0bb-15c3-4c6e-8efc-fd12131d72cf"
      },
      "execution_count": 14,
      "outputs": [
        {
          "output_type": "stream",
          "name": "stdout",
          "text": [
            "Requirement already satisfied: optuna in /usr/local/lib/python3.10/dist-packages (3.4.0)\n",
            "Requirement already satisfied: alembic>=1.5.0 in /usr/local/lib/python3.10/dist-packages (from optuna) (1.12.0)\n",
            "Requirement already satisfied: colorlog in /usr/local/lib/python3.10/dist-packages (from optuna) (6.7.0)\n",
            "Requirement already satisfied: numpy in /usr/local/lib/python3.10/dist-packages (from optuna) (1.23.5)\n",
            "Requirement already satisfied: packaging>=20.0 in /usr/local/lib/python3.10/dist-packages (from optuna) (23.2)\n",
            "Requirement already satisfied: sqlalchemy>=1.3.0 in /usr/local/lib/python3.10/dist-packages (from optuna) (2.0.22)\n",
            "Requirement already satisfied: tqdm in /usr/local/lib/python3.10/dist-packages (from optuna) (4.66.1)\n",
            "Requirement already satisfied: PyYAML in /usr/local/lib/python3.10/dist-packages (from optuna) (6.0.1)\n",
            "Requirement already satisfied: Mako in /usr/local/lib/python3.10/dist-packages (from alembic>=1.5.0->optuna) (1.2.4)\n",
            "Requirement already satisfied: typing-extensions>=4 in /usr/local/lib/python3.10/dist-packages (from alembic>=1.5.0->optuna) (4.5.0)\n",
            "Requirement already satisfied: greenlet!=0.4.17 in /usr/local/lib/python3.10/dist-packages (from sqlalchemy>=1.3.0->optuna) (3.0.0)\n",
            "Requirement already satisfied: MarkupSafe>=0.9.2 in /usr/local/lib/python3.10/dist-packages (from Mako->alembic>=1.5.0->optuna) (2.1.3)\n"
          ]
        }
      ]
    },
    {
      "cell_type": "code",
      "source": [
        "from google.colab import drive\n",
        "import os\n",
        "\n",
        "drive.mount('/content/drive')\n",
        "input_dir = \"/content/drive/MyDrive/Data/Playground/\""
      ],
      "metadata": {
        "colab": {
          "base_uri": "https://localhost:8080/"
        },
        "id": "TR-vHCeh49Ew",
        "outputId": "43ae1902-8b93-48f0-d1f8-fe3d0daad841"
      },
      "execution_count": 15,
      "outputs": [
        {
          "output_type": "stream",
          "name": "stdout",
          "text": [
            "Drive already mounted at /content/drive; to attempt to forcibly remount, call drive.mount(\"/content/drive\", force_remount=True).\n"
          ]
        }
      ]
    },
    {
      "cell_type": "code",
      "source": [
        "train = pd.read_csv(os.path.join(input_dir, \"train.csv\"))\n",
        "evaluate = pd.read_csv(os.path.join(input_dir, \"test.csv\"))\n",
        "sample_submission = pd.read_csv(os.path.join(input_dir, \"sample_submission.csv\"))"
      ],
      "metadata": {
        "id": "zuC43dsexCC_"
      },
      "execution_count": 16,
      "outputs": []
    },
    {
      "cell_type": "code",
      "source": [
        "print(f\"Training data of size = {train.shape}\")\n",
        "print(f\"Test data of size = {evaluate.shape}\")"
      ],
      "metadata": {
        "colab": {
          "base_uri": "https://localhost:8080/"
        },
        "id": "YoYuKEWky231",
        "outputId": "8d647755-a785-40bd-f360-67ca6df686fc"
      },
      "execution_count": 17,
      "outputs": [
        {
          "output_type": "stream",
          "name": "stdout",
          "text": [
            "Training data of size = (159256, 24)\n",
            "Test data of size = (106171, 23)\n"
          ]
        }
      ]
    },
    {
      "cell_type": "code",
      "source": [
        "x_columns = train.columns[train.columns != \"smoking\"]\n",
        "y_column = train.columns[train.columns == \"smoking\"]\n",
        "\n",
        "print(\"Input data for id = 0\")\n",
        "display(train.iloc[0][x_columns])\n",
        "print()\n",
        "print(\"Target value for id = 0\")\n",
        "display(train.iloc[0][y_column])"
      ],
      "metadata": {
        "colab": {
          "base_uri": "https://localhost:8080/",
          "height": 520
        },
        "id": "lpAxwlxPxoze",
        "outputId": "01faf221-2b50-4c7c-973f-49bf3fb8e11e"
      },
      "execution_count": 18,
      "outputs": [
        {
          "output_type": "stream",
          "name": "stdout",
          "text": [
            "Input data for id = 0\n"
          ]
        },
        {
          "output_type": "display_data",
          "data": {
            "text/plain": [
              "id                       0.0\n",
              "age                     55.0\n",
              "height(cm)             165.0\n",
              "weight(kg)              60.0\n",
              "waist(cm)               81.0\n",
              "eyesight(left)           0.5\n",
              "eyesight(right)          0.6\n",
              "hearing(left)            1.0\n",
              "hearing(right)           1.0\n",
              "systolic               135.0\n",
              "relaxation              87.0\n",
              "fasting blood sugar     94.0\n",
              "Cholesterol            172.0\n",
              "triglyceride           300.0\n",
              "HDL                     40.0\n",
              "LDL                     75.0\n",
              "hemoglobin              16.5\n",
              "Urine protein            1.0\n",
              "serum creatinine         1.0\n",
              "AST                     22.0\n",
              "ALT                     25.0\n",
              "Gtp                     27.0\n",
              "dental caries            0.0\n",
              "Name: 0, dtype: float64"
            ]
          },
          "metadata": {}
        },
        {
          "output_type": "stream",
          "name": "stdout",
          "text": [
            "\n",
            "Target value for id = 0\n"
          ]
        },
        {
          "output_type": "display_data",
          "data": {
            "text/plain": [
              "smoking    1.0\n",
              "Name: 0, dtype: float64"
            ]
          },
          "metadata": {}
        }
      ]
    },
    {
      "cell_type": "code",
      "source": [
        "# Min max normalzie values\n",
        "x_train = train[x_columns]\n",
        "x_train_normalized = (x_train-x_train.min())/(x_train.max()-x_train.min())\n",
        "x_train_normalized.sample(5)"
      ],
      "metadata": {
        "colab": {
          "base_uri": "https://localhost:8080/",
          "height": 273
        },
        "id": "GJgtgqjJySUR",
        "outputId": "f3728b0e-a6dd-4119-ea9f-6ebd82be22f9"
      },
      "execution_count": 19,
      "outputs": [
        {
          "output_type": "execute_result",
          "data": {
            "text/plain": [
              "             id       age  height(cm)  weight(kg)  waist(cm)  eyesight(left)  \\\n",
              "97683  0.613375  0.230769    0.545455        0.35   0.434211        0.112245   \n",
              "7789   0.048909  0.153846    0.636364        0.40   0.368421        0.112245   \n",
              "78386  0.492204  0.461538    0.272727        0.30   0.421053        0.091837   \n",
              "2895   0.018178  0.307692    0.727273        0.55   0.618421        0.112245   \n",
              "27838  0.174801  0.307692    0.454545        0.25   0.221053        0.142857   \n",
              "\n",
              "       eyesight(right)  hearing(left)  hearing(right)  systolic  ...  \\\n",
              "97683         0.112245            0.0             0.0  0.279412  ...   \n",
              "7789          0.142857            0.0             0.0  0.242647  ...   \n",
              "78386         0.091837            1.0             1.0  0.455882  ...   \n",
              "2895          0.112245            0.0             0.0  0.169118  ...   \n",
              "27838         0.112245            0.0             0.0  0.227941  ...   \n",
              "\n",
              "       triglyceride       HDL       LDL  hemoglobin  Urine protein  \\\n",
              "97683      0.145119  0.275591  0.077999    0.701863            0.0   \n",
              "7789       0.125330  0.433071  0.074771    0.720497            0.0   \n",
              "78386      0.310026  0.377953  0.050565    0.521739            0.0   \n",
              "2895       0.304749  0.346457  0.074233    0.633540            0.0   \n",
              "27838      0.027704  0.535433  0.084454    0.608696            0.0   \n",
              "\n",
              "       serum creatinine       AST       ALT       Gtp  dental caries  \n",
              "97683          0.071429  0.029793  0.009269  0.045135            0.0  \n",
              "7789           0.102041  0.019430  0.006522  0.036108            0.0  \n",
              "78386          0.051020  0.027202  0.006866  0.024072            0.0  \n",
              "2895           0.112245  0.023316  0.007209  0.077232            1.0  \n",
              "27838          0.071429  0.036269  0.006522  0.016048            0.0  \n",
              "\n",
              "[5 rows x 23 columns]"
            ],
            "text/html": [
              "\n",
              "  <div id=\"df-86f8358e-c8d3-4a70-982a-9f4358cbf9e7\" class=\"colab-df-container\">\n",
              "    <div>\n",
              "<style scoped>\n",
              "    .dataframe tbody tr th:only-of-type {\n",
              "        vertical-align: middle;\n",
              "    }\n",
              "\n",
              "    .dataframe tbody tr th {\n",
              "        vertical-align: top;\n",
              "    }\n",
              "\n",
              "    .dataframe thead th {\n",
              "        text-align: right;\n",
              "    }\n",
              "</style>\n",
              "<table border=\"1\" class=\"dataframe\">\n",
              "  <thead>\n",
              "    <tr style=\"text-align: right;\">\n",
              "      <th></th>\n",
              "      <th>id</th>\n",
              "      <th>age</th>\n",
              "      <th>height(cm)</th>\n",
              "      <th>weight(kg)</th>\n",
              "      <th>waist(cm)</th>\n",
              "      <th>eyesight(left)</th>\n",
              "      <th>eyesight(right)</th>\n",
              "      <th>hearing(left)</th>\n",
              "      <th>hearing(right)</th>\n",
              "      <th>systolic</th>\n",
              "      <th>...</th>\n",
              "      <th>triglyceride</th>\n",
              "      <th>HDL</th>\n",
              "      <th>LDL</th>\n",
              "      <th>hemoglobin</th>\n",
              "      <th>Urine protein</th>\n",
              "      <th>serum creatinine</th>\n",
              "      <th>AST</th>\n",
              "      <th>ALT</th>\n",
              "      <th>Gtp</th>\n",
              "      <th>dental caries</th>\n",
              "    </tr>\n",
              "  </thead>\n",
              "  <tbody>\n",
              "    <tr>\n",
              "      <th>97683</th>\n",
              "      <td>0.613375</td>\n",
              "      <td>0.230769</td>\n",
              "      <td>0.545455</td>\n",
              "      <td>0.35</td>\n",
              "      <td>0.434211</td>\n",
              "      <td>0.112245</td>\n",
              "      <td>0.112245</td>\n",
              "      <td>0.0</td>\n",
              "      <td>0.0</td>\n",
              "      <td>0.279412</td>\n",
              "      <td>...</td>\n",
              "      <td>0.145119</td>\n",
              "      <td>0.275591</td>\n",
              "      <td>0.077999</td>\n",
              "      <td>0.701863</td>\n",
              "      <td>0.0</td>\n",
              "      <td>0.071429</td>\n",
              "      <td>0.029793</td>\n",
              "      <td>0.009269</td>\n",
              "      <td>0.045135</td>\n",
              "      <td>0.0</td>\n",
              "    </tr>\n",
              "    <tr>\n",
              "      <th>7789</th>\n",
              "      <td>0.048909</td>\n",
              "      <td>0.153846</td>\n",
              "      <td>0.636364</td>\n",
              "      <td>0.40</td>\n",
              "      <td>0.368421</td>\n",
              "      <td>0.112245</td>\n",
              "      <td>0.142857</td>\n",
              "      <td>0.0</td>\n",
              "      <td>0.0</td>\n",
              "      <td>0.242647</td>\n",
              "      <td>...</td>\n",
              "      <td>0.125330</td>\n",
              "      <td>0.433071</td>\n",
              "      <td>0.074771</td>\n",
              "      <td>0.720497</td>\n",
              "      <td>0.0</td>\n",
              "      <td>0.102041</td>\n",
              "      <td>0.019430</td>\n",
              "      <td>0.006522</td>\n",
              "      <td>0.036108</td>\n",
              "      <td>0.0</td>\n",
              "    </tr>\n",
              "    <tr>\n",
              "      <th>78386</th>\n",
              "      <td>0.492204</td>\n",
              "      <td>0.461538</td>\n",
              "      <td>0.272727</td>\n",
              "      <td>0.30</td>\n",
              "      <td>0.421053</td>\n",
              "      <td>0.091837</td>\n",
              "      <td>0.091837</td>\n",
              "      <td>1.0</td>\n",
              "      <td>1.0</td>\n",
              "      <td>0.455882</td>\n",
              "      <td>...</td>\n",
              "      <td>0.310026</td>\n",
              "      <td>0.377953</td>\n",
              "      <td>0.050565</td>\n",
              "      <td>0.521739</td>\n",
              "      <td>0.0</td>\n",
              "      <td>0.051020</td>\n",
              "      <td>0.027202</td>\n",
              "      <td>0.006866</td>\n",
              "      <td>0.024072</td>\n",
              "      <td>0.0</td>\n",
              "    </tr>\n",
              "    <tr>\n",
              "      <th>2895</th>\n",
              "      <td>0.018178</td>\n",
              "      <td>0.307692</td>\n",
              "      <td>0.727273</td>\n",
              "      <td>0.55</td>\n",
              "      <td>0.618421</td>\n",
              "      <td>0.112245</td>\n",
              "      <td>0.112245</td>\n",
              "      <td>0.0</td>\n",
              "      <td>0.0</td>\n",
              "      <td>0.169118</td>\n",
              "      <td>...</td>\n",
              "      <td>0.304749</td>\n",
              "      <td>0.346457</td>\n",
              "      <td>0.074233</td>\n",
              "      <td>0.633540</td>\n",
              "      <td>0.0</td>\n",
              "      <td>0.112245</td>\n",
              "      <td>0.023316</td>\n",
              "      <td>0.007209</td>\n",
              "      <td>0.077232</td>\n",
              "      <td>1.0</td>\n",
              "    </tr>\n",
              "    <tr>\n",
              "      <th>27838</th>\n",
              "      <td>0.174801</td>\n",
              "      <td>0.307692</td>\n",
              "      <td>0.454545</td>\n",
              "      <td>0.25</td>\n",
              "      <td>0.221053</td>\n",
              "      <td>0.142857</td>\n",
              "      <td>0.112245</td>\n",
              "      <td>0.0</td>\n",
              "      <td>0.0</td>\n",
              "      <td>0.227941</td>\n",
              "      <td>...</td>\n",
              "      <td>0.027704</td>\n",
              "      <td>0.535433</td>\n",
              "      <td>0.084454</td>\n",
              "      <td>0.608696</td>\n",
              "      <td>0.0</td>\n",
              "      <td>0.071429</td>\n",
              "      <td>0.036269</td>\n",
              "      <td>0.006522</td>\n",
              "      <td>0.016048</td>\n",
              "      <td>0.0</td>\n",
              "    </tr>\n",
              "  </tbody>\n",
              "</table>\n",
              "<p>5 rows × 23 columns</p>\n",
              "</div>\n",
              "    <div class=\"colab-df-buttons\">\n",
              "\n",
              "  <div class=\"colab-df-container\">\n",
              "    <button class=\"colab-df-convert\" onclick=\"convertToInteractive('df-86f8358e-c8d3-4a70-982a-9f4358cbf9e7')\"\n",
              "            title=\"Convert this dataframe to an interactive table.\"\n",
              "            style=\"display:none;\">\n",
              "\n",
              "  <svg xmlns=\"http://www.w3.org/2000/svg\" height=\"24px\" viewBox=\"0 -960 960 960\">\n",
              "    <path d=\"M120-120v-720h720v720H120Zm60-500h600v-160H180v160Zm220 220h160v-160H400v160Zm0 220h160v-160H400v160ZM180-400h160v-160H180v160Zm440 0h160v-160H620v160ZM180-180h160v-160H180v160Zm440 0h160v-160H620v160Z\"/>\n",
              "  </svg>\n",
              "    </button>\n",
              "\n",
              "  <style>\n",
              "    .colab-df-container {\n",
              "      display:flex;\n",
              "      gap: 12px;\n",
              "    }\n",
              "\n",
              "    .colab-df-convert {\n",
              "      background-color: #E8F0FE;\n",
              "      border: none;\n",
              "      border-radius: 50%;\n",
              "      cursor: pointer;\n",
              "      display: none;\n",
              "      fill: #1967D2;\n",
              "      height: 32px;\n",
              "      padding: 0 0 0 0;\n",
              "      width: 32px;\n",
              "    }\n",
              "\n",
              "    .colab-df-convert:hover {\n",
              "      background-color: #E2EBFA;\n",
              "      box-shadow: 0px 1px 2px rgba(60, 64, 67, 0.3), 0px 1px 3px 1px rgba(60, 64, 67, 0.15);\n",
              "      fill: #174EA6;\n",
              "    }\n",
              "\n",
              "    .colab-df-buttons div {\n",
              "      margin-bottom: 4px;\n",
              "    }\n",
              "\n",
              "    [theme=dark] .colab-df-convert {\n",
              "      background-color: #3B4455;\n",
              "      fill: #D2E3FC;\n",
              "    }\n",
              "\n",
              "    [theme=dark] .colab-df-convert:hover {\n",
              "      background-color: #434B5C;\n",
              "      box-shadow: 0px 1px 3px 1px rgba(0, 0, 0, 0.15);\n",
              "      filter: drop-shadow(0px 1px 2px rgba(0, 0, 0, 0.3));\n",
              "      fill: #FFFFFF;\n",
              "    }\n",
              "  </style>\n",
              "\n",
              "    <script>\n",
              "      const buttonEl =\n",
              "        document.querySelector('#df-86f8358e-c8d3-4a70-982a-9f4358cbf9e7 button.colab-df-convert');\n",
              "      buttonEl.style.display =\n",
              "        google.colab.kernel.accessAllowed ? 'block' : 'none';\n",
              "\n",
              "      async function convertToInteractive(key) {\n",
              "        const element = document.querySelector('#df-86f8358e-c8d3-4a70-982a-9f4358cbf9e7');\n",
              "        const dataTable =\n",
              "          await google.colab.kernel.invokeFunction('convertToInteractive',\n",
              "                                                    [key], {});\n",
              "        if (!dataTable) return;\n",
              "\n",
              "        const docLinkHtml = 'Like what you see? Visit the ' +\n",
              "          '<a target=\"_blank\" href=https://colab.research.google.com/notebooks/data_table.ipynb>data table notebook</a>'\n",
              "          + ' to learn more about interactive tables.';\n",
              "        element.innerHTML = '';\n",
              "        dataTable['output_type'] = 'display_data';\n",
              "        await google.colab.output.renderOutput(dataTable, element);\n",
              "        const docLink = document.createElement('div');\n",
              "        docLink.innerHTML = docLinkHtml;\n",
              "        element.appendChild(docLink);\n",
              "      }\n",
              "    </script>\n",
              "  </div>\n",
              "\n",
              "\n",
              "<div id=\"df-032e1741-e527-47d4-b0e7-d1c651011b54\">\n",
              "  <button class=\"colab-df-quickchart\" onclick=\"quickchart('df-032e1741-e527-47d4-b0e7-d1c651011b54')\"\n",
              "            title=\"Suggest charts.\"\n",
              "            style=\"display:none;\">\n",
              "\n",
              "<svg xmlns=\"http://www.w3.org/2000/svg\" height=\"24px\"viewBox=\"0 0 24 24\"\n",
              "     width=\"24px\">\n",
              "    <g>\n",
              "        <path d=\"M19 3H5c-1.1 0-2 .9-2 2v14c0 1.1.9 2 2 2h14c1.1 0 2-.9 2-2V5c0-1.1-.9-2-2-2zM9 17H7v-7h2v7zm4 0h-2V7h2v10zm4 0h-2v-4h2v4z\"/>\n",
              "    </g>\n",
              "</svg>\n",
              "  </button>\n",
              "\n",
              "<style>\n",
              "  .colab-df-quickchart {\n",
              "      --bg-color: #E8F0FE;\n",
              "      --fill-color: #1967D2;\n",
              "      --hover-bg-color: #E2EBFA;\n",
              "      --hover-fill-color: #174EA6;\n",
              "      --disabled-fill-color: #AAA;\n",
              "      --disabled-bg-color: #DDD;\n",
              "  }\n",
              "\n",
              "  [theme=dark] .colab-df-quickchart {\n",
              "      --bg-color: #3B4455;\n",
              "      --fill-color: #D2E3FC;\n",
              "      --hover-bg-color: #434B5C;\n",
              "      --hover-fill-color: #FFFFFF;\n",
              "      --disabled-bg-color: #3B4455;\n",
              "      --disabled-fill-color: #666;\n",
              "  }\n",
              "\n",
              "  .colab-df-quickchart {\n",
              "    background-color: var(--bg-color);\n",
              "    border: none;\n",
              "    border-radius: 50%;\n",
              "    cursor: pointer;\n",
              "    display: none;\n",
              "    fill: var(--fill-color);\n",
              "    height: 32px;\n",
              "    padding: 0;\n",
              "    width: 32px;\n",
              "  }\n",
              "\n",
              "  .colab-df-quickchart:hover {\n",
              "    background-color: var(--hover-bg-color);\n",
              "    box-shadow: 0 1px 2px rgba(60, 64, 67, 0.3), 0 1px 3px 1px rgba(60, 64, 67, 0.15);\n",
              "    fill: var(--button-hover-fill-color);\n",
              "  }\n",
              "\n",
              "  .colab-df-quickchart-complete:disabled,\n",
              "  .colab-df-quickchart-complete:disabled:hover {\n",
              "    background-color: var(--disabled-bg-color);\n",
              "    fill: var(--disabled-fill-color);\n",
              "    box-shadow: none;\n",
              "  }\n",
              "\n",
              "  .colab-df-spinner {\n",
              "    border: 2px solid var(--fill-color);\n",
              "    border-color: transparent;\n",
              "    border-bottom-color: var(--fill-color);\n",
              "    animation:\n",
              "      spin 1s steps(1) infinite;\n",
              "  }\n",
              "\n",
              "  @keyframes spin {\n",
              "    0% {\n",
              "      border-color: transparent;\n",
              "      border-bottom-color: var(--fill-color);\n",
              "      border-left-color: var(--fill-color);\n",
              "    }\n",
              "    20% {\n",
              "      border-color: transparent;\n",
              "      border-left-color: var(--fill-color);\n",
              "      border-top-color: var(--fill-color);\n",
              "    }\n",
              "    30% {\n",
              "      border-color: transparent;\n",
              "      border-left-color: var(--fill-color);\n",
              "      border-top-color: var(--fill-color);\n",
              "      border-right-color: var(--fill-color);\n",
              "    }\n",
              "    40% {\n",
              "      border-color: transparent;\n",
              "      border-right-color: var(--fill-color);\n",
              "      border-top-color: var(--fill-color);\n",
              "    }\n",
              "    60% {\n",
              "      border-color: transparent;\n",
              "      border-right-color: var(--fill-color);\n",
              "    }\n",
              "    80% {\n",
              "      border-color: transparent;\n",
              "      border-right-color: var(--fill-color);\n",
              "      border-bottom-color: var(--fill-color);\n",
              "    }\n",
              "    90% {\n",
              "      border-color: transparent;\n",
              "      border-bottom-color: var(--fill-color);\n",
              "    }\n",
              "  }\n",
              "</style>\n",
              "\n",
              "  <script>\n",
              "    async function quickchart(key) {\n",
              "      const quickchartButtonEl =\n",
              "        document.querySelector('#' + key + ' button');\n",
              "      quickchartButtonEl.disabled = true;  // To prevent multiple clicks.\n",
              "      quickchartButtonEl.classList.add('colab-df-spinner');\n",
              "      try {\n",
              "        const charts = await google.colab.kernel.invokeFunction(\n",
              "            'suggestCharts', [key], {});\n",
              "      } catch (error) {\n",
              "        console.error('Error during call to suggestCharts:', error);\n",
              "      }\n",
              "      quickchartButtonEl.classList.remove('colab-df-spinner');\n",
              "      quickchartButtonEl.classList.add('colab-df-quickchart-complete');\n",
              "    }\n",
              "    (() => {\n",
              "      let quickchartButtonEl =\n",
              "        document.querySelector('#df-032e1741-e527-47d4-b0e7-d1c651011b54 button');\n",
              "      quickchartButtonEl.style.display =\n",
              "        google.colab.kernel.accessAllowed ? 'block' : 'none';\n",
              "    })();\n",
              "  </script>\n",
              "</div>\n",
              "\n",
              "    </div>\n",
              "  </div>\n"
            ]
          },
          "metadata": {},
          "execution_count": 19
        }
      ]
    },
    {
      "cell_type": "code",
      "source": [
        "eval_normalized = (evaluate-x_train.min())/(x_train.max()-x_train.min())\n",
        "eval_normalized.sample(5)"
      ],
      "metadata": {
        "colab": {
          "base_uri": "https://localhost:8080/",
          "height": 273
        },
        "id": "uP59Ff1Sys5S",
        "outputId": "009ac021-74d5-411d-9782-c0762cb34eab"
      },
      "execution_count": 20,
      "outputs": [
        {
          "output_type": "execute_result",
          "data": {
            "text/plain": [
              "             id       age  height(cm)  weight(kg)  waist(cm)  eyesight(left)  \\\n",
              "14046  1.088204  0.307692    0.454545         0.2   0.230263        0.142857   \n",
              "42189  1.264921  0.230769    0.545455         0.4   0.468421        0.040816   \n",
              "32100  1.201570  0.384615    0.727273         0.6   0.607895        0.061224   \n",
              "44532  1.279633  0.307692    0.545455         0.5   0.486842        0.142857   \n",
              "50442  1.316744  0.615385    0.454545         0.4   0.605263        0.061224   \n",
              "\n",
              "       eyesight(right)  hearing(left)  hearing(right)  systolic  ...  \\\n",
              "14046         0.142857            0.0             0.0  0.301471  ...   \n",
              "42189         0.061224            0.0             0.0  0.455882  ...   \n",
              "32100         0.051020            0.0             0.0  0.352941  ...   \n",
              "44532         0.142857            0.0             0.0  0.205882  ...   \n",
              "50442         0.051020            0.0             0.0  0.536765  ...   \n",
              "\n",
              "       triglyceride       HDL       LDL  hemoglobin  Urine protein  \\\n",
              "14046      0.098945  0.503937  0.055944    0.478261            0.0   \n",
              "42189      0.183377  0.220472  0.074233    0.633540            0.0   \n",
              "32100      0.193931  0.251969  0.048951    0.670807            0.0   \n",
              "44532      0.205805  0.259843  0.060247    0.677019            0.0   \n",
              "50442      0.182058  0.236220  0.076385    0.639752            0.0   \n",
              "\n",
              "       serum creatinine       AST       ALT       Gtp  dental caries  \n",
              "14046          0.061224  0.063472  0.015105  0.016048            0.0  \n",
              "42189          0.081633  0.015544  0.009612  0.037111            0.0  \n",
              "32100          0.102041  0.011658  0.004463  0.027081            0.0  \n",
              "44532          0.051020  0.022021  0.010985  0.024072            0.0  \n",
              "50442          0.091837  0.025907  0.007209  0.025075            0.0  \n",
              "\n",
              "[5 rows x 23 columns]"
            ],
            "text/html": [
              "\n",
              "  <div id=\"df-e0e64607-223e-4f58-ae0d-07e6f15d7b00\" class=\"colab-df-container\">\n",
              "    <div>\n",
              "<style scoped>\n",
              "    .dataframe tbody tr th:only-of-type {\n",
              "        vertical-align: middle;\n",
              "    }\n",
              "\n",
              "    .dataframe tbody tr th {\n",
              "        vertical-align: top;\n",
              "    }\n",
              "\n",
              "    .dataframe thead th {\n",
              "        text-align: right;\n",
              "    }\n",
              "</style>\n",
              "<table border=\"1\" class=\"dataframe\">\n",
              "  <thead>\n",
              "    <tr style=\"text-align: right;\">\n",
              "      <th></th>\n",
              "      <th>id</th>\n",
              "      <th>age</th>\n",
              "      <th>height(cm)</th>\n",
              "      <th>weight(kg)</th>\n",
              "      <th>waist(cm)</th>\n",
              "      <th>eyesight(left)</th>\n",
              "      <th>eyesight(right)</th>\n",
              "      <th>hearing(left)</th>\n",
              "      <th>hearing(right)</th>\n",
              "      <th>systolic</th>\n",
              "      <th>...</th>\n",
              "      <th>triglyceride</th>\n",
              "      <th>HDL</th>\n",
              "      <th>LDL</th>\n",
              "      <th>hemoglobin</th>\n",
              "      <th>Urine protein</th>\n",
              "      <th>serum creatinine</th>\n",
              "      <th>AST</th>\n",
              "      <th>ALT</th>\n",
              "      <th>Gtp</th>\n",
              "      <th>dental caries</th>\n",
              "    </tr>\n",
              "  </thead>\n",
              "  <tbody>\n",
              "    <tr>\n",
              "      <th>14046</th>\n",
              "      <td>1.088204</td>\n",
              "      <td>0.307692</td>\n",
              "      <td>0.454545</td>\n",
              "      <td>0.2</td>\n",
              "      <td>0.230263</td>\n",
              "      <td>0.142857</td>\n",
              "      <td>0.142857</td>\n",
              "      <td>0.0</td>\n",
              "      <td>0.0</td>\n",
              "      <td>0.301471</td>\n",
              "      <td>...</td>\n",
              "      <td>0.098945</td>\n",
              "      <td>0.503937</td>\n",
              "      <td>0.055944</td>\n",
              "      <td>0.478261</td>\n",
              "      <td>0.0</td>\n",
              "      <td>0.061224</td>\n",
              "      <td>0.063472</td>\n",
              "      <td>0.015105</td>\n",
              "      <td>0.016048</td>\n",
              "      <td>0.0</td>\n",
              "    </tr>\n",
              "    <tr>\n",
              "      <th>42189</th>\n",
              "      <td>1.264921</td>\n",
              "      <td>0.230769</td>\n",
              "      <td>0.545455</td>\n",
              "      <td>0.4</td>\n",
              "      <td>0.468421</td>\n",
              "      <td>0.040816</td>\n",
              "      <td>0.061224</td>\n",
              "      <td>0.0</td>\n",
              "      <td>0.0</td>\n",
              "      <td>0.455882</td>\n",
              "      <td>...</td>\n",
              "      <td>0.183377</td>\n",
              "      <td>0.220472</td>\n",
              "      <td>0.074233</td>\n",
              "      <td>0.633540</td>\n",
              "      <td>0.0</td>\n",
              "      <td>0.081633</td>\n",
              "      <td>0.015544</td>\n",
              "      <td>0.009612</td>\n",
              "      <td>0.037111</td>\n",
              "      <td>0.0</td>\n",
              "    </tr>\n",
              "    <tr>\n",
              "      <th>32100</th>\n",
              "      <td>1.201570</td>\n",
              "      <td>0.384615</td>\n",
              "      <td>0.727273</td>\n",
              "      <td>0.6</td>\n",
              "      <td>0.607895</td>\n",
              "      <td>0.061224</td>\n",
              "      <td>0.051020</td>\n",
              "      <td>0.0</td>\n",
              "      <td>0.0</td>\n",
              "      <td>0.352941</td>\n",
              "      <td>...</td>\n",
              "      <td>0.193931</td>\n",
              "      <td>0.251969</td>\n",
              "      <td>0.048951</td>\n",
              "      <td>0.670807</td>\n",
              "      <td>0.0</td>\n",
              "      <td>0.102041</td>\n",
              "      <td>0.011658</td>\n",
              "      <td>0.004463</td>\n",
              "      <td>0.027081</td>\n",
              "      <td>0.0</td>\n",
              "    </tr>\n",
              "    <tr>\n",
              "      <th>44532</th>\n",
              "      <td>1.279633</td>\n",
              "      <td>0.307692</td>\n",
              "      <td>0.545455</td>\n",
              "      <td>0.5</td>\n",
              "      <td>0.486842</td>\n",
              "      <td>0.142857</td>\n",
              "      <td>0.142857</td>\n",
              "      <td>0.0</td>\n",
              "      <td>0.0</td>\n",
              "      <td>0.205882</td>\n",
              "      <td>...</td>\n",
              "      <td>0.205805</td>\n",
              "      <td>0.259843</td>\n",
              "      <td>0.060247</td>\n",
              "      <td>0.677019</td>\n",
              "      <td>0.0</td>\n",
              "      <td>0.051020</td>\n",
              "      <td>0.022021</td>\n",
              "      <td>0.010985</td>\n",
              "      <td>0.024072</td>\n",
              "      <td>0.0</td>\n",
              "    </tr>\n",
              "    <tr>\n",
              "      <th>50442</th>\n",
              "      <td>1.316744</td>\n",
              "      <td>0.615385</td>\n",
              "      <td>0.454545</td>\n",
              "      <td>0.4</td>\n",
              "      <td>0.605263</td>\n",
              "      <td>0.061224</td>\n",
              "      <td>0.051020</td>\n",
              "      <td>0.0</td>\n",
              "      <td>0.0</td>\n",
              "      <td>0.536765</td>\n",
              "      <td>...</td>\n",
              "      <td>0.182058</td>\n",
              "      <td>0.236220</td>\n",
              "      <td>0.076385</td>\n",
              "      <td>0.639752</td>\n",
              "      <td>0.0</td>\n",
              "      <td>0.091837</td>\n",
              "      <td>0.025907</td>\n",
              "      <td>0.007209</td>\n",
              "      <td>0.025075</td>\n",
              "      <td>0.0</td>\n",
              "    </tr>\n",
              "  </tbody>\n",
              "</table>\n",
              "<p>5 rows × 23 columns</p>\n",
              "</div>\n",
              "    <div class=\"colab-df-buttons\">\n",
              "\n",
              "  <div class=\"colab-df-container\">\n",
              "    <button class=\"colab-df-convert\" onclick=\"convertToInteractive('df-e0e64607-223e-4f58-ae0d-07e6f15d7b00')\"\n",
              "            title=\"Convert this dataframe to an interactive table.\"\n",
              "            style=\"display:none;\">\n",
              "\n",
              "  <svg xmlns=\"http://www.w3.org/2000/svg\" height=\"24px\" viewBox=\"0 -960 960 960\">\n",
              "    <path d=\"M120-120v-720h720v720H120Zm60-500h600v-160H180v160Zm220 220h160v-160H400v160Zm0 220h160v-160H400v160ZM180-400h160v-160H180v160Zm440 0h160v-160H620v160ZM180-180h160v-160H180v160Zm440 0h160v-160H620v160Z\"/>\n",
              "  </svg>\n",
              "    </button>\n",
              "\n",
              "  <style>\n",
              "    .colab-df-container {\n",
              "      display:flex;\n",
              "      gap: 12px;\n",
              "    }\n",
              "\n",
              "    .colab-df-convert {\n",
              "      background-color: #E8F0FE;\n",
              "      border: none;\n",
              "      border-radius: 50%;\n",
              "      cursor: pointer;\n",
              "      display: none;\n",
              "      fill: #1967D2;\n",
              "      height: 32px;\n",
              "      padding: 0 0 0 0;\n",
              "      width: 32px;\n",
              "    }\n",
              "\n",
              "    .colab-df-convert:hover {\n",
              "      background-color: #E2EBFA;\n",
              "      box-shadow: 0px 1px 2px rgba(60, 64, 67, 0.3), 0px 1px 3px 1px rgba(60, 64, 67, 0.15);\n",
              "      fill: #174EA6;\n",
              "    }\n",
              "\n",
              "    .colab-df-buttons div {\n",
              "      margin-bottom: 4px;\n",
              "    }\n",
              "\n",
              "    [theme=dark] .colab-df-convert {\n",
              "      background-color: #3B4455;\n",
              "      fill: #D2E3FC;\n",
              "    }\n",
              "\n",
              "    [theme=dark] .colab-df-convert:hover {\n",
              "      background-color: #434B5C;\n",
              "      box-shadow: 0px 1px 3px 1px rgba(0, 0, 0, 0.15);\n",
              "      filter: drop-shadow(0px 1px 2px rgba(0, 0, 0, 0.3));\n",
              "      fill: #FFFFFF;\n",
              "    }\n",
              "  </style>\n",
              "\n",
              "    <script>\n",
              "      const buttonEl =\n",
              "        document.querySelector('#df-e0e64607-223e-4f58-ae0d-07e6f15d7b00 button.colab-df-convert');\n",
              "      buttonEl.style.display =\n",
              "        google.colab.kernel.accessAllowed ? 'block' : 'none';\n",
              "\n",
              "      async function convertToInteractive(key) {\n",
              "        const element = document.querySelector('#df-e0e64607-223e-4f58-ae0d-07e6f15d7b00');\n",
              "        const dataTable =\n",
              "          await google.colab.kernel.invokeFunction('convertToInteractive',\n",
              "                                                    [key], {});\n",
              "        if (!dataTable) return;\n",
              "\n",
              "        const docLinkHtml = 'Like what you see? Visit the ' +\n",
              "          '<a target=\"_blank\" href=https://colab.research.google.com/notebooks/data_table.ipynb>data table notebook</a>'\n",
              "          + ' to learn more about interactive tables.';\n",
              "        element.innerHTML = '';\n",
              "        dataTable['output_type'] = 'display_data';\n",
              "        await google.colab.output.renderOutput(dataTable, element);\n",
              "        const docLink = document.createElement('div');\n",
              "        docLink.innerHTML = docLinkHtml;\n",
              "        element.appendChild(docLink);\n",
              "      }\n",
              "    </script>\n",
              "  </div>\n",
              "\n",
              "\n",
              "<div id=\"df-cad4499c-eb74-474e-809a-9ad345fe401a\">\n",
              "  <button class=\"colab-df-quickchart\" onclick=\"quickchart('df-cad4499c-eb74-474e-809a-9ad345fe401a')\"\n",
              "            title=\"Suggest charts.\"\n",
              "            style=\"display:none;\">\n",
              "\n",
              "<svg xmlns=\"http://www.w3.org/2000/svg\" height=\"24px\"viewBox=\"0 0 24 24\"\n",
              "     width=\"24px\">\n",
              "    <g>\n",
              "        <path d=\"M19 3H5c-1.1 0-2 .9-2 2v14c0 1.1.9 2 2 2h14c1.1 0 2-.9 2-2V5c0-1.1-.9-2-2-2zM9 17H7v-7h2v7zm4 0h-2V7h2v10zm4 0h-2v-4h2v4z\"/>\n",
              "    </g>\n",
              "</svg>\n",
              "  </button>\n",
              "\n",
              "<style>\n",
              "  .colab-df-quickchart {\n",
              "      --bg-color: #E8F0FE;\n",
              "      --fill-color: #1967D2;\n",
              "      --hover-bg-color: #E2EBFA;\n",
              "      --hover-fill-color: #174EA6;\n",
              "      --disabled-fill-color: #AAA;\n",
              "      --disabled-bg-color: #DDD;\n",
              "  }\n",
              "\n",
              "  [theme=dark] .colab-df-quickchart {\n",
              "      --bg-color: #3B4455;\n",
              "      --fill-color: #D2E3FC;\n",
              "      --hover-bg-color: #434B5C;\n",
              "      --hover-fill-color: #FFFFFF;\n",
              "      --disabled-bg-color: #3B4455;\n",
              "      --disabled-fill-color: #666;\n",
              "  }\n",
              "\n",
              "  .colab-df-quickchart {\n",
              "    background-color: var(--bg-color);\n",
              "    border: none;\n",
              "    border-radius: 50%;\n",
              "    cursor: pointer;\n",
              "    display: none;\n",
              "    fill: var(--fill-color);\n",
              "    height: 32px;\n",
              "    padding: 0;\n",
              "    width: 32px;\n",
              "  }\n",
              "\n",
              "  .colab-df-quickchart:hover {\n",
              "    background-color: var(--hover-bg-color);\n",
              "    box-shadow: 0 1px 2px rgba(60, 64, 67, 0.3), 0 1px 3px 1px rgba(60, 64, 67, 0.15);\n",
              "    fill: var(--button-hover-fill-color);\n",
              "  }\n",
              "\n",
              "  .colab-df-quickchart-complete:disabled,\n",
              "  .colab-df-quickchart-complete:disabled:hover {\n",
              "    background-color: var(--disabled-bg-color);\n",
              "    fill: var(--disabled-fill-color);\n",
              "    box-shadow: none;\n",
              "  }\n",
              "\n",
              "  .colab-df-spinner {\n",
              "    border: 2px solid var(--fill-color);\n",
              "    border-color: transparent;\n",
              "    border-bottom-color: var(--fill-color);\n",
              "    animation:\n",
              "      spin 1s steps(1) infinite;\n",
              "  }\n",
              "\n",
              "  @keyframes spin {\n",
              "    0% {\n",
              "      border-color: transparent;\n",
              "      border-bottom-color: var(--fill-color);\n",
              "      border-left-color: var(--fill-color);\n",
              "    }\n",
              "    20% {\n",
              "      border-color: transparent;\n",
              "      border-left-color: var(--fill-color);\n",
              "      border-top-color: var(--fill-color);\n",
              "    }\n",
              "    30% {\n",
              "      border-color: transparent;\n",
              "      border-left-color: var(--fill-color);\n",
              "      border-top-color: var(--fill-color);\n",
              "      border-right-color: var(--fill-color);\n",
              "    }\n",
              "    40% {\n",
              "      border-color: transparent;\n",
              "      border-right-color: var(--fill-color);\n",
              "      border-top-color: var(--fill-color);\n",
              "    }\n",
              "    60% {\n",
              "      border-color: transparent;\n",
              "      border-right-color: var(--fill-color);\n",
              "    }\n",
              "    80% {\n",
              "      border-color: transparent;\n",
              "      border-right-color: var(--fill-color);\n",
              "      border-bottom-color: var(--fill-color);\n",
              "    }\n",
              "    90% {\n",
              "      border-color: transparent;\n",
              "      border-bottom-color: var(--fill-color);\n",
              "    }\n",
              "  }\n",
              "</style>\n",
              "\n",
              "  <script>\n",
              "    async function quickchart(key) {\n",
              "      const quickchartButtonEl =\n",
              "        document.querySelector('#' + key + ' button');\n",
              "      quickchartButtonEl.disabled = true;  // To prevent multiple clicks.\n",
              "      quickchartButtonEl.classList.add('colab-df-spinner');\n",
              "      try {\n",
              "        const charts = await google.colab.kernel.invokeFunction(\n",
              "            'suggestCharts', [key], {});\n",
              "      } catch (error) {\n",
              "        console.error('Error during call to suggestCharts:', error);\n",
              "      }\n",
              "      quickchartButtonEl.classList.remove('colab-df-spinner');\n",
              "      quickchartButtonEl.classList.add('colab-df-quickchart-complete');\n",
              "    }\n",
              "    (() => {\n",
              "      let quickchartButtonEl =\n",
              "        document.querySelector('#df-cad4499c-eb74-474e-809a-9ad345fe401a button');\n",
              "      quickchartButtonEl.style.display =\n",
              "        google.colab.kernel.accessAllowed ? 'block' : 'none';\n",
              "    })();\n",
              "  </script>\n",
              "</div>\n",
              "\n",
              "    </div>\n",
              "  </div>\n"
            ]
          },
          "metadata": {},
          "execution_count": 20
        }
      ]
    },
    {
      "cell_type": "code",
      "source": [
        "train_x_tensor = torch.FloatTensor(x_train_normalized.to_numpy())\n",
        "train_y_tensor = torch.FloatTensor(train[y_column].to_numpy())\n",
        "eval_x_tensor = torch.FloatTensor(eval_normalized.to_numpy())\n",
        "\n",
        "print(f\"train_x_tensor = {train_x_tensor.shape}\",f\"train_y_tensor = {train_y_tensor.shape}\",f\"eval_x_tensor = {eval_x_tensor.shape}\",sep=\"\\n\")\n",
        "print(train_x_tensor.min(),train_x_tensor.max())\n",
        "print(eval_x_tensor.min(),eval_x_tensor.max())"
      ],
      "metadata": {
        "colab": {
          "base_uri": "https://localhost:8080/"
        },
        "id": "gBA896dK1gNF",
        "outputId": "e5ad5255-603d-4f6e-fe23-7431f0bce347"
      },
      "execution_count": 21,
      "outputs": [
        {
          "output_type": "stream",
          "name": "stdout",
          "text": [
            "train_x_tensor = torch.Size([159256, 23])\n",
            "train_y_tensor = torch.Size([159256, 1])\n",
            "eval_x_tensor = torch.Size([106171, 23])\n",
            "tensor(0.) tensor(1.)\n",
            "tensor(-0.0449) tensor(1.6667)\n"
          ]
        }
      ]
    },
    {
      "cell_type": "code",
      "source": [
        "def get_device():\n",
        "    device = \"cpu\"\n",
        "    if torch.cuda.is_available():\n",
        "      device = \"cuda:0\"\n",
        "    return device\n",
        "\n",
        "class SmokingDataset(torch.utils.data.Dataset):\n",
        "    def __init__(self,data,target=None):\n",
        "        self.data = data.to(get_device())\n",
        "\n",
        "        # Null coalesce the target to an empty of the expected shape.\n",
        "        target = target if torch.is_tensor(target) else torch.empty((len(data),1))\n",
        "        self.target = target.to(get_device())\n",
        "\n",
        "    def __getitem__(self, index):\n",
        "        x = self.data[index]\n",
        "        y = self.target[index]\n",
        "\n",
        "        return {'data': x, 'target': y}\n",
        "\n",
        "    def __len__(self):\n",
        "        return len(self.data)\n",
        "\n",
        "bsz = 512\n",
        "tr_x, ts_x, tr_y, ts_y = sklearn.model_selection.train_test_split(train_x_tensor, train_y_tensor)\n",
        "print(f\"tr_x = {tr_x.shape}\",f\"tr_y = {tr_y.shape}\",sep=\",\\t\")\n",
        "print(f\"ts_x = {ts_x.shape}\",f\"ts_y = {ts_y.shape}\",sep=\",\\t\")\n",
        "\n",
        "train_loader = torch.utils.data.DataLoader(SmokingDataset(tr_x,tr_y), batch_size=bsz)\n",
        "test_loader = torch.utils.data.DataLoader(SmokingDataset(ts_x,ts_y), batch_size=bsz)\n",
        "\n",
        "example_batch = next(iter(train_loader))\n",
        "example_batch[\"data\"].shape, example_batch[\"target\"].shape"
      ],
      "metadata": {
        "colab": {
          "base_uri": "https://localhost:8080/"
        },
        "id": "o8euduDO33iR",
        "outputId": "d2005ba7-6b66-4966-d5e4-37a49a1edd70"
      },
      "execution_count": 22,
      "outputs": [
        {
          "output_type": "stream",
          "name": "stdout",
          "text": [
            "tr_x = torch.Size([119442, 23]),\ttr_y = torch.Size([119442, 1])\n",
            "ts_x = torch.Size([39814, 23]),\tts_y = torch.Size([39814, 1])\n"
          ]
        },
        {
          "output_type": "execute_result",
          "data": {
            "text/plain": [
              "(torch.Size([512, 23]), torch.Size([512, 1]))"
            ]
          },
          "metadata": {},
          "execution_count": 22
        }
      ]
    },
    {
      "cell_type": "code",
      "source": [
        "def make_sequential(input_dim, hidden_dim, output_dim, dropout):\n",
        "  return torch.nn.Sequential(torch.nn.Linear(input_dim, hidden_dim), torch.nn.ReLU(), torch.nn.Dropout(p=dropout), torch.nn.Linear(hidden_dim, output_dim))\n",
        "\n",
        "def make_deep_sequential(input_dim, depth, hidden_dim, output_dim, dropout):\n",
        "  all_dims = [input_dim] + depth * [hidden_dim] + [output_dim]\n",
        "  layers = []\n",
        "\n",
        "  for i in range(len(all_dims)-1):\n",
        "    layers.append(torch.nn.Sequential(torch.nn.Linear(all_dims[i], all_dims[i+1]),\n",
        "                                      torch.nn.ReLU(),\n",
        "                                      torch.nn.Dropout(p=dropout)))\n",
        "\n",
        "  # No dropout or non-linearity on the last layer.\n",
        "  layers[-1] = torch.nn.Sequential(torch.nn.Linear(all_dims[-2], all_dims[-1]))\n",
        "\n",
        "  return torch.nn.Sequential(*layers)\n",
        "\n",
        "def do_epoch(models,train_loader,test_loader):\n",
        "  model = models[\"model\"]\n",
        "  opt = models[\"opt\"]\n",
        "  loss_fn = models[\"loss_fn\"]\n",
        "  auroc_fn = models[\"auroc_fn\"]\n",
        "\n",
        "  for batch in train_loader:\n",
        "    opt.zero_grad()\n",
        "    fwd = model(batch[\"data\"])\n",
        "    loss = loss_fn(fwd,batch[\"target\"])\n",
        "    loss.backward()\n",
        "    opt.step()\n",
        "\n",
        "\n",
        "  with torch.no_grad():\n",
        "    ts_pred = []\n",
        "    ts_target = []\n",
        "    for batch in test_loader:\n",
        "      ts_pred.append(model(batch[\"data\"]))\n",
        "      ts_target.append(batch[\"target\"])\n",
        "\n",
        "  return auroc_fn(torch.cat(ts_pred),torch.cat(ts_target)).cpu().numpy()\n",
        "\n",
        "def get_config(trial):\n",
        "  return {\n",
        "    \"lr\": trial.suggest_float(\"lr\", 1e-10,1e-1,log=True),\n",
        "    \"dropout\": trial.suggest_float(\"dropout\", 0,1),\n",
        "    # \"depth\": trial.suggest_int(\"depth\",0,3),\n",
        "    \"hidden_dim\": trial.suggest_int(\"hidden_dim\",2,512,log=True),\n",
        "    \"epochs\": trial.suggest_int(\"epochs\",1,100),\n",
        "  }\n",
        "\n",
        "def make_models(config):\n",
        "  model = make_sequential(len(x_columns),config[\"hidden_dim\"],1,config[\"dropout\"])\n",
        "  model.to(get_device())\n",
        "  return {\n",
        "    \"loss_fn\": torch.nn.BCEWithLogitsLoss(),\n",
        "    \"model\": model,\n",
        "    \"opt\": torch.optim.Adam(model.parameters(),lr=config[\"lr\"]),\n",
        "    \"auroc_fn\": torchmetrics.AUROC(task=\"binary\"),\n",
        "  }\n",
        "\n",
        "def train_model(trial):\n",
        "  config = get_config(trial)\n",
        "\n",
        "  models = make_models(config)\n",
        "\n",
        "  for i in range(config[\"epochs\"]):\n",
        "    loss = do_epoch(models,train_loader,test_loader)\n",
        "\n",
        "    trial.report(loss, i)\n",
        "    if i % 10 == 0:\n",
        "      print(i,loss)\n",
        "    if trial.should_prune():\n",
        "        raise optuna.TrialPruned()\n",
        "\n",
        "  return loss"
      ],
      "metadata": {
        "id": "cVoV4Ec36ZAu"
      },
      "execution_count": 26,
      "outputs": []
    },
    {
      "cell_type": "code",
      "source": [
        "print(f\"Num GPUS = {torch.cuda.device_count()}\")"
      ],
      "metadata": {
        "colab": {
          "base_uri": "https://localhost:8080/"
        },
        "id": "RsZwFeprBwHQ",
        "outputId": "c4d6d268-c209-4255-9ea2-10fe5e4ffb7b"
      },
      "execution_count": 24,
      "outputs": [
        {
          "output_type": "stream",
          "name": "stdout",
          "text": [
            "Num GPUS = 1\n"
          ]
        }
      ]
    },
    {
      "cell_type": "code",
      "source": [
        "from functools import partial\n",
        "\n",
        "num_trials = 100\n",
        "\n",
        "study = optuna.create_study(\n",
        "    direction=\"maximize\",\n",
        "    pruner=optuna.pruners.SuccessiveHalvingPruner())\n",
        "study.optimize(train_model, n_trials=num_trials)\n",
        "\n",
        "print(\"DONE\")\n",
        "print(\"CONFIG:\", study.best_trial.params)\n",
        "print(\"METRICS:\", study.best_trial.values)"
      ],
      "metadata": {
        "colab": {
          "base_uri": "https://localhost:8080/"
        },
        "id": "q9dC2vCL_wnM",
        "outputId": "cd7db99f-4591-4e55-d059-5114461e29db"
      },
      "execution_count": null,
      "outputs": [
        {
          "output_type": "stream",
          "name": "stderr",
          "text": [
            "[I 2023-10-25 20:38:18,905] A new study created in memory with name: no-name-1bae3176-b0c3-4f1c-a965-04fee60eceec\n"
          ]
        },
        {
          "output_type": "stream",
          "name": "stdout",
          "text": [
            "0 0.5658778\n",
            "10 0.5685642\n",
            "20 0.5704104\n"
          ]
        },
        {
          "output_type": "stream",
          "name": "stderr",
          "text": [
            "[I 2023-10-25 20:39:12,137] Trial 0 finished with value: 0.5661314725875854 and parameters: {'lr': 3.923911556205562e-07, 'dropout': 0.5358582060026729, 'hidden_dim': 3, 'epochs': 28}. Best is trial 0 with value: 0.5661314725875854.\n"
          ]
        },
        {
          "output_type": "stream",
          "name": "stdout",
          "text": [
            "0 0.6721304\n",
            "10 0.7044803\n",
            "20 0.71189564\n",
            "30 0.721102\n",
            "40 0.7316072\n",
            "50 0.7403537\n",
            "60 0.7472389\n",
            "70 0.7525548\n",
            "80 0.75822043\n",
            "90 0.7628261\n"
          ]
        },
        {
          "output_type": "stream",
          "name": "stderr",
          "text": [
            "[I 2023-10-25 20:41:29,472] Trial 1 finished with value: 0.7641903162002563 and parameters: {'lr': 3.8075155689721195e-06, 'dropout': 0.023589568154011142, 'hidden_dim': 84, 'epochs': 94}. Best is trial 1 with value: 0.7641903162002563.\n"
          ]
        },
        {
          "output_type": "stream",
          "name": "stdout",
          "text": [
            "0 0.5555469\n"
          ]
        },
        {
          "output_type": "stream",
          "name": "stderr",
          "text": [
            "[I 2023-10-25 20:41:32,061] Trial 2 pruned. \n"
          ]
        },
        {
          "output_type": "stream",
          "name": "stdout",
          "text": [
            "0 0.79006034\n",
            "10 0.83123064\n",
            "20 0.8333887\n",
            "30 0.8345085\n",
            "40 0.8354188\n",
            "50 0.83555603\n"
          ]
        },
        {
          "output_type": "stream",
          "name": "stderr",
          "text": [
            "[I 2023-10-25 20:43:02,241] Trial 3 finished with value: 0.836350679397583 and parameters: {'lr': 0.0026989870113280513, 'dropout': 0.7809462687801216, 'hidden_dim': 62, 'epochs': 61}. Best is trial 3 with value: 0.836350679397583.\n"
          ]
        },
        {
          "output_type": "stream",
          "name": "stdout",
          "text": [
            "60 0.8363507\n",
            "0 0.6258205\n"
          ]
        },
        {
          "output_type": "stream",
          "name": "stderr",
          "text": [
            "[I 2023-10-25 20:43:04,831] Trial 4 pruned. \n"
          ]
        },
        {
          "output_type": "stream",
          "name": "stdout",
          "text": [
            "0 0.56293416\n"
          ]
        },
        {
          "output_type": "stream",
          "name": "stderr",
          "text": [
            "[I 2023-10-25 20:43:07,583] Trial 5 pruned. \n"
          ]
        },
        {
          "output_type": "stream",
          "name": "stdout",
          "text": [
            "0 0.46925426\n"
          ]
        },
        {
          "output_type": "stream",
          "name": "stderr",
          "text": [
            "[I 2023-10-25 20:43:10,169] Trial 6 pruned. \n"
          ]
        },
        {
          "output_type": "stream",
          "name": "stdout",
          "text": [
            "0 0.50223583\n"
          ]
        },
        {
          "output_type": "stream",
          "name": "stderr",
          "text": [
            "[I 2023-10-25 20:43:13,018] Trial 7 pruned. \n"
          ]
        },
        {
          "output_type": "stream",
          "name": "stdout",
          "text": [
            "0 0.76119566\n"
          ]
        },
        {
          "output_type": "stream",
          "name": "stderr",
          "text": [
            "[I 2023-10-25 20:43:20,620] Trial 8 pruned. \n"
          ]
        },
        {
          "output_type": "stream",
          "name": "stdout",
          "text": [
            "0 0.51580954\n"
          ]
        },
        {
          "output_type": "stream",
          "name": "stderr",
          "text": [
            "[I 2023-10-25 20:43:23,206] Trial 9 pruned. \n",
            "[I 2023-10-25 20:43:24,577] Trial 10 finished with value: 0.5 and parameters: {'lr': 0.07366153792985784, 'dropout': 0.9758549971588805, 'hidden_dim': 44, 'epochs': 1}. Best is trial 3 with value: 0.836350679397583.\n"
          ]
        },
        {
          "output_type": "stream",
          "name": "stdout",
          "text": [
            "0 0.5\n",
            "0 0.8323258\n",
            "10 0.84905964\n",
            "20 0.85176593\n",
            "30 0.85377\n",
            "40 0.8544608\n",
            "50 0.8553035\n",
            "60 0.8555299\n",
            "70 0.85644627\n",
            "80 0.8561702\n",
            "90 0.856621\n"
          ]
        },
        {
          "output_type": "stream",
          "name": "stderr",
          "text": [
            "[I 2023-10-25 20:45:39,233] Trial 11 finished with value: 0.8570835590362549 and parameters: {'lr': 0.00393810253055183, 'dropout': 0.009063794522759834, 'hidden_dim': 98, 'epochs': 93}. Best is trial 11 with value: 0.8570835590362549.\n"
          ]
        },
        {
          "output_type": "stream",
          "name": "stdout",
          "text": [
            "0 0.8348527\n"
          ]
        },
        {
          "output_type": "stream",
          "name": "stderr",
          "text": [
            "[I 2023-10-25 20:45:45,710] Trial 12 pruned. \n"
          ]
        },
        {
          "output_type": "stream",
          "name": "stdout",
          "text": [
            "0 0.80303\n"
          ]
        },
        {
          "output_type": "stream",
          "name": "stderr",
          "text": [
            "[I 2023-10-25 20:45:53,709] Trial 13 pruned. \n"
          ]
        },
        {
          "output_type": "stream",
          "name": "stdout",
          "text": [
            "0 0.79695046\n"
          ]
        },
        {
          "output_type": "stream",
          "name": "stderr",
          "text": [
            "[I 2023-10-25 20:45:56,281] Trial 14 pruned. \n"
          ]
        },
        {
          "output_type": "stream",
          "name": "stdout",
          "text": [
            "0 0.5221395\n"
          ]
        },
        {
          "output_type": "stream",
          "name": "stderr",
          "text": [
            "[I 2023-10-25 20:45:58,861] Trial 15 pruned. \n"
          ]
        },
        {
          "output_type": "stream",
          "name": "stdout",
          "text": [
            "0 0.8326934\n"
          ]
        },
        {
          "output_type": "stream",
          "name": "stderr",
          "text": [
            "[I 2023-10-25 20:46:08,346] Trial 16 pruned. \n"
          ]
        },
        {
          "output_type": "stream",
          "name": "stdout",
          "text": [
            "0 0.76410174\n"
          ]
        },
        {
          "output_type": "stream",
          "name": "stderr",
          "text": [
            "[I 2023-10-25 20:46:11,532] Trial 17 pruned. \n"
          ]
        },
        {
          "output_type": "stream",
          "name": "stdout",
          "text": [
            "0 0.83100545\n"
          ]
        },
        {
          "output_type": "stream",
          "name": "stderr",
          "text": [
            "[I 2023-10-25 20:46:18,128] Trial 18 pruned. \n"
          ]
        },
        {
          "output_type": "stream",
          "name": "stdout",
          "text": [
            "0 0.71078485\n"
          ]
        },
        {
          "output_type": "stream",
          "name": "stderr",
          "text": [
            "[I 2023-10-25 20:46:21,418] Trial 19 pruned. \n"
          ]
        },
        {
          "output_type": "stream",
          "name": "stdout",
          "text": [
            "0 0.56439877\n"
          ]
        },
        {
          "output_type": "stream",
          "name": "stderr",
          "text": [
            "[I 2023-10-25 20:46:24,779] Trial 20 pruned. \n"
          ]
        },
        {
          "output_type": "stream",
          "name": "stdout",
          "text": [
            "0 0.71771574\n"
          ]
        },
        {
          "output_type": "stream",
          "name": "stderr",
          "text": [
            "[I 2023-10-25 20:46:27,312] Trial 21 pruned. \n"
          ]
        },
        {
          "output_type": "stream",
          "name": "stdout",
          "text": [
            "0 0.77146715\n"
          ]
        },
        {
          "output_type": "stream",
          "name": "stderr",
          "text": [
            "[I 2023-10-25 20:46:29,936] Trial 22 pruned. \n"
          ]
        },
        {
          "output_type": "stream",
          "name": "stdout",
          "text": [
            "0 0.8351904\n",
            "10 0.8473978\n"
          ]
        },
        {
          "output_type": "stream",
          "name": "stderr",
          "text": [
            "[I 2023-10-25 20:46:54,845] Trial 23 pruned. \n"
          ]
        },
        {
          "output_type": "stream",
          "name": "stdout",
          "text": [
            "0 0.5883408\n"
          ]
        },
        {
          "output_type": "stream",
          "name": "stderr",
          "text": [
            "[I 2023-10-25 20:46:57,398] Trial 24 pruned. \n"
          ]
        },
        {
          "output_type": "stream",
          "name": "stdout",
          "text": [
            "0 0.7740694\n"
          ]
        },
        {
          "output_type": "stream",
          "name": "stderr",
          "text": [
            "[I 2023-10-25 20:46:59,978] Trial 25 pruned. \n"
          ]
        },
        {
          "output_type": "stream",
          "name": "stdout",
          "text": [
            "0 0.70593417\n"
          ]
        },
        {
          "output_type": "stream",
          "name": "stderr",
          "text": [
            "[I 2023-10-25 20:47:02,923] Trial 26 pruned. \n"
          ]
        },
        {
          "output_type": "stream",
          "name": "stdout",
          "text": [
            "0 0.8362367\n"
          ]
        },
        {
          "output_type": "stream",
          "name": "stderr",
          "text": [
            "[I 2023-10-25 20:47:10,859] Trial 27 pruned. \n"
          ]
        },
        {
          "output_type": "stream",
          "name": "stdout",
          "text": [
            "0 0.8286105\n",
            "10 0.8488027\n"
          ]
        },
        {
          "output_type": "stream",
          "name": "stderr",
          "text": [
            "[I 2023-10-25 20:47:36,271] Trial 28 pruned. \n"
          ]
        },
        {
          "output_type": "stream",
          "name": "stdout",
          "text": [
            "0 0.48040998\n"
          ]
        },
        {
          "output_type": "stream",
          "name": "stderr",
          "text": [
            "[I 2023-10-25 20:47:39,144] Trial 29 pruned. \n"
          ]
        },
        {
          "output_type": "stream",
          "name": "stdout",
          "text": [
            "0 0.84039557\n",
            "10 0.84821844\n"
          ]
        },
        {
          "output_type": "stream",
          "name": "stderr",
          "text": [
            "[I 2023-10-25 20:48:04,546] Trial 30 pruned. \n"
          ]
        },
        {
          "output_type": "stream",
          "name": "stdout",
          "text": [
            "0 0.5111776\n"
          ]
        },
        {
          "output_type": "stream",
          "name": "stderr",
          "text": [
            "[I 2023-10-25 20:48:07,202] Trial 31 pruned. \n"
          ]
        },
        {
          "output_type": "stream",
          "name": "stdout",
          "text": [
            "0 0.4734646\n"
          ]
        },
        {
          "output_type": "stream",
          "name": "stderr",
          "text": [
            "[I 2023-10-25 20:48:09,877] Trial 32 pruned. \n"
          ]
        },
        {
          "output_type": "stream",
          "name": "stdout",
          "text": [
            "0 0.6636044\n"
          ]
        },
        {
          "output_type": "stream",
          "name": "stderr",
          "text": [
            "[I 2023-10-25 20:48:12,503] Trial 33 pruned. \n"
          ]
        },
        {
          "output_type": "stream",
          "name": "stdout",
          "text": [
            "0 0.42937684\n"
          ]
        },
        {
          "output_type": "stream",
          "name": "stderr",
          "text": [
            "[I 2023-10-25 20:48:16,556] Trial 34 pruned. \n"
          ]
        },
        {
          "output_type": "stream",
          "name": "stdout",
          "text": [
            "0 0.49411103\n"
          ]
        },
        {
          "output_type": "stream",
          "name": "stderr",
          "text": [
            "[I 2023-10-25 20:48:19,507] Trial 35 pruned. \n"
          ]
        },
        {
          "output_type": "stream",
          "name": "stdout",
          "text": [
            "0 0.52742994\n"
          ]
        },
        {
          "output_type": "stream",
          "name": "stderr",
          "text": [
            "[I 2023-10-25 20:48:22,144] Trial 36 pruned. \n"
          ]
        },
        {
          "output_type": "stream",
          "name": "stdout",
          "text": [
            "0 0.51678056\n"
          ]
        },
        {
          "output_type": "stream",
          "name": "stderr",
          "text": [
            "[I 2023-10-25 20:48:24,752] Trial 37 pruned. \n"
          ]
        },
        {
          "output_type": "stream",
          "name": "stdout",
          "text": [
            "0 0.5109997\n"
          ]
        },
        {
          "output_type": "stream",
          "name": "stderr",
          "text": [
            "[I 2023-10-25 20:48:27,497] Trial 38 pruned. \n"
          ]
        },
        {
          "output_type": "stream",
          "name": "stdout",
          "text": [
            "0 0.6837276\n"
          ]
        },
        {
          "output_type": "stream",
          "name": "stderr",
          "text": [
            "[I 2023-10-25 20:48:31,500] Trial 39 pruned. \n"
          ]
        },
        {
          "output_type": "stream",
          "name": "stdout",
          "text": [
            "0 0.7537672\n"
          ]
        },
        {
          "output_type": "stream",
          "name": "stderr",
          "text": [
            "[I 2023-10-25 20:48:34,176] Trial 40 pruned. \n"
          ]
        },
        {
          "output_type": "stream",
          "name": "stdout",
          "text": [
            "0 0.5000061\n"
          ]
        },
        {
          "output_type": "stream",
          "name": "stderr",
          "text": [
            "[I 2023-10-25 20:48:37,041] Trial 41 pruned. \n"
          ]
        },
        {
          "output_type": "stream",
          "name": "stdout",
          "text": [
            "0 0.6494583\n"
          ]
        },
        {
          "output_type": "stream",
          "name": "stderr",
          "text": [
            "[I 2023-10-25 20:48:39,679] Trial 42 pruned. \n"
          ]
        }
      ]
    },
    {
      "cell_type": "code",
      "source": [
        "# Need to remember to make submission predictions with logits\n",
        "all_loader = torch.utils.data.DataLoader(SmokingDataset(train_x_tensor,train_y_tensor), batch_size=bsz)\n",
        "eval_loader = torch.utils.data.DataLoader(SmokingDataset(eval_x_tensor), batch_size=bsz)\n",
        "\n",
        "models = make_models(study.best_trial.params)\n",
        "for epoch in range(study.best_trial.params[\"epochs\"]):\n",
        "  loss = do_epoch(models,all_loader,all_loader)\n",
        "  print(loss)\n",
        "\n",
        "eval_pred = []\n",
        "with torch.no_grad():\n",
        "  for batch in eval_loader:\n",
        "    eval_pred.append(models[\"model\"](batch[\"data\"]))\n",
        "eval_prob = torch.nn.functional.sigmoid(torch.cat(eval_pred)).squeeze().cpu()\n",
        "print(f\"eval_prob = {eval_prob.shape} w/ final loss = {loss}\")\n",
        "\n",
        "submission = pd.DataFrame({\"id\" : evaluate.id, \"smoking\" : eval_prob}).set_index(\"id\")\n",
        "display(submission)\n",
        "submission.to_csv(os.path.join(input_dir, \"Submissions\", \"first.csv\"))\n",
        "print(\"Made submission!\")"
      ],
      "metadata": {
        "id": "bV3wHWlZ-362"
      },
      "execution_count": null,
      "outputs": []
    }
  ]
}