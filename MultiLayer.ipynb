{
  "nbformat": 4,
  "nbformat_minor": 0,
  "metadata": {
    "colab": {
      "provenance": [],
      "gpuType": "T4"
    },
    "kernelspec": {
      "name": "python3",
      "display_name": "Python 3"
    },
    "language_info": {
      "name": "python"
    },
    "accelerator": "GPU"
  },
  "cells": [
    {
      "cell_type": "markdown",
      "source": [
        "# Binary Prediction of Smoker Status using Bio-Signals\n",
        "[From Kaggle Playground Series](https://www.kaggle.com/competitions/playground-series-s3e24/overview)"
      ],
      "metadata": {
        "id": "2s7CME-pxCL1"
      }
    },
    {
      "cell_type": "code",
      "execution_count": 1,
      "metadata": {
        "id": "7lf0VwjIw7L4"
      },
      "outputs": [],
      "source": [
        "import pandas as pd\n",
        "import torch\n",
        "import sklearn\n",
        "import sklearn.model_selection"
      ]
    },
    {
      "cell_type": "code",
      "source": [
        "%pip install torchmetrics\n",
        "import torchmetrics"
      ],
      "metadata": {
        "colab": {
          "base_uri": "https://localhost:8080/"
        },
        "id": "VwUIgVpq96Cs",
        "outputId": "0dcbd594-be33-41b3-beb4-6ec0cb518a49"
      },
      "execution_count": 2,
      "outputs": [
        {
          "output_type": "stream",
          "name": "stdout",
          "text": [
            "Collecting torchmetrics\n",
            "  Downloading torchmetrics-1.2.0-py3-none-any.whl (805 kB)\n",
            "\u001b[2K     \u001b[90m━━━━━━━━━━━━━━━━━━━━━━━━━━━━━━━━━━━━━━━━\u001b[0m \u001b[32m805.2/805.2 kB\u001b[0m \u001b[31m6.6 MB/s\u001b[0m eta \u001b[36m0:00:00\u001b[0m\n",
            "\u001b[?25hRequirement already satisfied: numpy>1.20.0 in /usr/local/lib/python3.10/dist-packages (from torchmetrics) (1.23.5)\n",
            "Requirement already satisfied: torch>=1.8.1 in /usr/local/lib/python3.10/dist-packages (from torchmetrics) (2.1.0+cu118)\n",
            "Collecting lightning-utilities>=0.8.0 (from torchmetrics)\n",
            "  Downloading lightning_utilities-0.9.0-py3-none-any.whl (23 kB)\n",
            "Requirement already satisfied: packaging>=17.1 in /usr/local/lib/python3.10/dist-packages (from lightning-utilities>=0.8.0->torchmetrics) (23.2)\n",
            "Requirement already satisfied: typing-extensions in /usr/local/lib/python3.10/dist-packages (from lightning-utilities>=0.8.0->torchmetrics) (4.5.0)\n",
            "Requirement already satisfied: filelock in /usr/local/lib/python3.10/dist-packages (from torch>=1.8.1->torchmetrics) (3.12.4)\n",
            "Requirement already satisfied: sympy in /usr/local/lib/python3.10/dist-packages (from torch>=1.8.1->torchmetrics) (1.12)\n",
            "Requirement already satisfied: networkx in /usr/local/lib/python3.10/dist-packages (from torch>=1.8.1->torchmetrics) (3.2)\n",
            "Requirement already satisfied: jinja2 in /usr/local/lib/python3.10/dist-packages (from torch>=1.8.1->torchmetrics) (3.1.2)\n",
            "Requirement already satisfied: fsspec in /usr/local/lib/python3.10/dist-packages (from torch>=1.8.1->torchmetrics) (2023.6.0)\n",
            "Requirement already satisfied: triton==2.1.0 in /usr/local/lib/python3.10/dist-packages (from torch>=1.8.1->torchmetrics) (2.1.0)\n",
            "Requirement already satisfied: MarkupSafe>=2.0 in /usr/local/lib/python3.10/dist-packages (from jinja2->torch>=1.8.1->torchmetrics) (2.1.3)\n",
            "Requirement already satisfied: mpmath>=0.19 in /usr/local/lib/python3.10/dist-packages (from sympy->torch>=1.8.1->torchmetrics) (1.3.0)\n",
            "Installing collected packages: lightning-utilities, torchmetrics\n",
            "Successfully installed lightning-utilities-0.9.0 torchmetrics-1.2.0\n"
          ]
        }
      ]
    },
    {
      "cell_type": "code",
      "source": [
        "%pip install optuna\n",
        "import optuna"
      ],
      "metadata": {
        "colab": {
          "base_uri": "https://localhost:8080/"
        },
        "id": "bm_9H93q-VQ5",
        "outputId": "1aad00af-57bc-4ca2-dae3-b80f1b0d93b5"
      },
      "execution_count": 3,
      "outputs": [
        {
          "output_type": "stream",
          "name": "stdout",
          "text": [
            "Collecting optuna\n",
            "  Downloading optuna-3.4.0-py3-none-any.whl (409 kB)\n",
            "\u001b[2K     \u001b[90m━━━━━━━━━━━━━━━━━━━━━━━━━━━━━━━━━━━━━━━━\u001b[0m \u001b[32m409.6/409.6 kB\u001b[0m \u001b[31m7.3 MB/s\u001b[0m eta \u001b[36m0:00:00\u001b[0m\n",
            "\u001b[?25hCollecting alembic>=1.5.0 (from optuna)\n",
            "  Downloading alembic-1.12.0-py3-none-any.whl (226 kB)\n",
            "\u001b[2K     \u001b[90m━━━━━━━━━━━━━━━━━━━━━━━━━━━━━━━━━━━━━━━━\u001b[0m \u001b[32m226.0/226.0 kB\u001b[0m \u001b[31m29.4 MB/s\u001b[0m eta \u001b[36m0:00:00\u001b[0m\n",
            "\u001b[?25hCollecting colorlog (from optuna)\n",
            "  Downloading colorlog-6.7.0-py2.py3-none-any.whl (11 kB)\n",
            "Requirement already satisfied: numpy in /usr/local/lib/python3.10/dist-packages (from optuna) (1.23.5)\n",
            "Requirement already satisfied: packaging>=20.0 in /usr/local/lib/python3.10/dist-packages (from optuna) (23.2)\n",
            "Requirement already satisfied: sqlalchemy>=1.3.0 in /usr/local/lib/python3.10/dist-packages (from optuna) (2.0.22)\n",
            "Requirement already satisfied: tqdm in /usr/local/lib/python3.10/dist-packages (from optuna) (4.66.1)\n",
            "Requirement already satisfied: PyYAML in /usr/local/lib/python3.10/dist-packages (from optuna) (6.0.1)\n",
            "Collecting Mako (from alembic>=1.5.0->optuna)\n",
            "  Downloading Mako-1.2.4-py3-none-any.whl (78 kB)\n",
            "\u001b[2K     \u001b[90m━━━━━━━━━━━━━━━━━━━━━━━━━━━━━━━━━━━━━━━━\u001b[0m \u001b[32m78.7/78.7 kB\u001b[0m \u001b[31m8.6 MB/s\u001b[0m eta \u001b[36m0:00:00\u001b[0m\n",
            "\u001b[?25hRequirement already satisfied: typing-extensions>=4 in /usr/local/lib/python3.10/dist-packages (from alembic>=1.5.0->optuna) (4.5.0)\n",
            "Requirement already satisfied: greenlet!=0.4.17 in /usr/local/lib/python3.10/dist-packages (from sqlalchemy>=1.3.0->optuna) (3.0.0)\n",
            "Requirement already satisfied: MarkupSafe>=0.9.2 in /usr/local/lib/python3.10/dist-packages (from Mako->alembic>=1.5.0->optuna) (2.1.3)\n",
            "Installing collected packages: Mako, colorlog, alembic, optuna\n",
            "Successfully installed Mako-1.2.4 alembic-1.12.0 colorlog-6.7.0 optuna-3.4.0\n"
          ]
        }
      ]
    },
    {
      "cell_type": "code",
      "source": [
        "from google.colab import drive\n",
        "import os\n",
        "\n",
        "drive.mount('/content/drive')\n",
        "input_dir = \"/content/drive/MyDrive/Data/Playground/\""
      ],
      "metadata": {
        "colab": {
          "base_uri": "https://localhost:8080/"
        },
        "id": "TR-vHCeh49Ew",
        "outputId": "39825f20-660b-421a-84f0-06055c5df65a"
      },
      "execution_count": 4,
      "outputs": [
        {
          "output_type": "stream",
          "name": "stdout",
          "text": [
            "Mounted at /content/drive\n"
          ]
        }
      ]
    },
    {
      "cell_type": "code",
      "source": [
        "train = pd.read_csv(os.path.join(input_dir, \"train.csv\"))\n",
        "evaluate = pd.read_csv(os.path.join(input_dir, \"test.csv\"))\n",
        "sample_submission = pd.read_csv(os.path.join(input_dir, \"sample_submission.csv\"))"
      ],
      "metadata": {
        "id": "zuC43dsexCC_"
      },
      "execution_count": 5,
      "outputs": []
    },
    {
      "cell_type": "code",
      "source": [
        "print(f\"Training data of size = {train.shape}\")\n",
        "print(f\"Test data of size = {evaluate.shape}\")"
      ],
      "metadata": {
        "colab": {
          "base_uri": "https://localhost:8080/"
        },
        "id": "YoYuKEWky231",
        "outputId": "c0f25758-516c-4cf6-dacb-a4447a36f4ea"
      },
      "execution_count": 6,
      "outputs": [
        {
          "output_type": "stream",
          "name": "stdout",
          "text": [
            "Training data of size = (159256, 24)\n",
            "Test data of size = (106171, 23)\n"
          ]
        }
      ]
    },
    {
      "cell_type": "code",
      "source": [
        "x_columns = train.columns[train.columns != \"smoking\"]\n",
        "y_column = train.columns[train.columns == \"smoking\"]\n",
        "\n",
        "print(\"Input data for id = 0\")\n",
        "display(train.iloc[0][x_columns])\n",
        "print()\n",
        "print(\"Target value for id = 0\")\n",
        "display(train.iloc[0][y_column])"
      ],
      "metadata": {
        "colab": {
          "base_uri": "https://localhost:8080/",
          "height": 520
        },
        "id": "lpAxwlxPxoze",
        "outputId": "7e199466-9ef8-45ea-9437-204d0cd0e07e"
      },
      "execution_count": 7,
      "outputs": [
        {
          "output_type": "stream",
          "name": "stdout",
          "text": [
            "Input data for id = 0\n"
          ]
        },
        {
          "output_type": "display_data",
          "data": {
            "text/plain": [
              "id                       0.0\n",
              "age                     55.0\n",
              "height(cm)             165.0\n",
              "weight(kg)              60.0\n",
              "waist(cm)               81.0\n",
              "eyesight(left)           0.5\n",
              "eyesight(right)          0.6\n",
              "hearing(left)            1.0\n",
              "hearing(right)           1.0\n",
              "systolic               135.0\n",
              "relaxation              87.0\n",
              "fasting blood sugar     94.0\n",
              "Cholesterol            172.0\n",
              "triglyceride           300.0\n",
              "HDL                     40.0\n",
              "LDL                     75.0\n",
              "hemoglobin              16.5\n",
              "Urine protein            1.0\n",
              "serum creatinine         1.0\n",
              "AST                     22.0\n",
              "ALT                     25.0\n",
              "Gtp                     27.0\n",
              "dental caries            0.0\n",
              "Name: 0, dtype: float64"
            ]
          },
          "metadata": {}
        },
        {
          "output_type": "stream",
          "name": "stdout",
          "text": [
            "\n",
            "Target value for id = 0\n"
          ]
        },
        {
          "output_type": "display_data",
          "data": {
            "text/plain": [
              "smoking    1.0\n",
              "Name: 0, dtype: float64"
            ]
          },
          "metadata": {}
        }
      ]
    },
    {
      "cell_type": "code",
      "source": [
        "# Min max normalzie values\n",
        "x_train = train[x_columns]\n",
        "x_train_normalized = (x_train-x_train.min())/(x_train.max()-x_train.min())\n",
        "x_train_normalized.sample(5)"
      ],
      "metadata": {
        "colab": {
          "base_uri": "https://localhost:8080/",
          "height": 273
        },
        "id": "GJgtgqjJySUR",
        "outputId": "1826a582-2758-49e5-f713-39d83fcd2552"
      },
      "execution_count": 8,
      "outputs": [
        {
          "output_type": "execute_result",
          "data": {
            "text/plain": [
              "              id       age  height(cm)  weight(kg)  waist(cm)  eyesight(left)  \\\n",
              "101756  0.638950  0.384615    0.545455        0.45   0.434211        0.091837   \n",
              "40086   0.251710  0.307692    0.545455        0.35   0.381579        0.091837   \n",
              "64465   0.404791  0.076923    0.636364        0.35   0.434211        0.051020   \n",
              "158450  0.994945  0.615385    0.454545        0.35   0.434211        0.091837   \n",
              "36023   0.226197  0.307692    0.454545        0.25   0.280263        0.112245   \n",
              "\n",
              "        eyesight(right)  hearing(left)  hearing(right)  systolic  ...  \\\n",
              "101756         0.091837            0.0             0.0  0.419118  ...   \n",
              "40086          0.112245            0.0             0.0  0.316176  ...   \n",
              "64465          0.040816            0.0             0.0  0.301471  ...   \n",
              "158450         0.142857            0.0             0.0  0.389706  ...   \n",
              "36023          0.112245            0.0             0.0  0.308824  ...   \n",
              "\n",
              "        triglyceride       HDL       LDL  hemoglobin  Urine protein  \\\n",
              "101756      0.163588  0.354331  0.038731    0.788820            0.0   \n",
              "40086       0.133245  0.401575  0.068854    0.559006            0.0   \n",
              "64465       0.080475  0.322835  0.048413    0.596273            0.0   \n",
              "158450      0.245383  0.275591  0.041420    0.695652            0.0   \n",
              "36023       0.055409  0.433071  0.040882    0.496894            0.0   \n",
              "\n",
              "        serum creatinine       AST       ALT       Gtp  dental caries  \n",
              "101756          0.091837  0.023316  0.008239  0.038114            1.0  \n",
              "40086           0.051020  0.037565  0.008926  0.095286            0.0  \n",
              "64465           0.091837  0.018135  0.005149  0.017051            0.0  \n",
              "158450          0.102041  0.032383  0.011672  0.044132            0.0  \n",
              "36023           0.071429  0.018135  0.004806  0.022066            0.0  \n",
              "\n",
              "[5 rows x 23 columns]"
            ],
            "text/html": [
              "\n",
              "  <div id=\"df-ca90ab0a-7d32-4e3d-b5ac-815a84457469\" class=\"colab-df-container\">\n",
              "    <div>\n",
              "<style scoped>\n",
              "    .dataframe tbody tr th:only-of-type {\n",
              "        vertical-align: middle;\n",
              "    }\n",
              "\n",
              "    .dataframe tbody tr th {\n",
              "        vertical-align: top;\n",
              "    }\n",
              "\n",
              "    .dataframe thead th {\n",
              "        text-align: right;\n",
              "    }\n",
              "</style>\n",
              "<table border=\"1\" class=\"dataframe\">\n",
              "  <thead>\n",
              "    <tr style=\"text-align: right;\">\n",
              "      <th></th>\n",
              "      <th>id</th>\n",
              "      <th>age</th>\n",
              "      <th>height(cm)</th>\n",
              "      <th>weight(kg)</th>\n",
              "      <th>waist(cm)</th>\n",
              "      <th>eyesight(left)</th>\n",
              "      <th>eyesight(right)</th>\n",
              "      <th>hearing(left)</th>\n",
              "      <th>hearing(right)</th>\n",
              "      <th>systolic</th>\n",
              "      <th>...</th>\n",
              "      <th>triglyceride</th>\n",
              "      <th>HDL</th>\n",
              "      <th>LDL</th>\n",
              "      <th>hemoglobin</th>\n",
              "      <th>Urine protein</th>\n",
              "      <th>serum creatinine</th>\n",
              "      <th>AST</th>\n",
              "      <th>ALT</th>\n",
              "      <th>Gtp</th>\n",
              "      <th>dental caries</th>\n",
              "    </tr>\n",
              "  </thead>\n",
              "  <tbody>\n",
              "    <tr>\n",
              "      <th>101756</th>\n",
              "      <td>0.638950</td>\n",
              "      <td>0.384615</td>\n",
              "      <td>0.545455</td>\n",
              "      <td>0.45</td>\n",
              "      <td>0.434211</td>\n",
              "      <td>0.091837</td>\n",
              "      <td>0.091837</td>\n",
              "      <td>0.0</td>\n",
              "      <td>0.0</td>\n",
              "      <td>0.419118</td>\n",
              "      <td>...</td>\n",
              "      <td>0.163588</td>\n",
              "      <td>0.354331</td>\n",
              "      <td>0.038731</td>\n",
              "      <td>0.788820</td>\n",
              "      <td>0.0</td>\n",
              "      <td>0.091837</td>\n",
              "      <td>0.023316</td>\n",
              "      <td>0.008239</td>\n",
              "      <td>0.038114</td>\n",
              "      <td>1.0</td>\n",
              "    </tr>\n",
              "    <tr>\n",
              "      <th>40086</th>\n",
              "      <td>0.251710</td>\n",
              "      <td>0.307692</td>\n",
              "      <td>0.545455</td>\n",
              "      <td>0.35</td>\n",
              "      <td>0.381579</td>\n",
              "      <td>0.091837</td>\n",
              "      <td>0.112245</td>\n",
              "      <td>0.0</td>\n",
              "      <td>0.0</td>\n",
              "      <td>0.316176</td>\n",
              "      <td>...</td>\n",
              "      <td>0.133245</td>\n",
              "      <td>0.401575</td>\n",
              "      <td>0.068854</td>\n",
              "      <td>0.559006</td>\n",
              "      <td>0.0</td>\n",
              "      <td>0.051020</td>\n",
              "      <td>0.037565</td>\n",
              "      <td>0.008926</td>\n",
              "      <td>0.095286</td>\n",
              "      <td>0.0</td>\n",
              "    </tr>\n",
              "    <tr>\n",
              "      <th>64465</th>\n",
              "      <td>0.404791</td>\n",
              "      <td>0.076923</td>\n",
              "      <td>0.636364</td>\n",
              "      <td>0.35</td>\n",
              "      <td>0.434211</td>\n",
              "      <td>0.051020</td>\n",
              "      <td>0.040816</td>\n",
              "      <td>0.0</td>\n",
              "      <td>0.0</td>\n",
              "      <td>0.301471</td>\n",
              "      <td>...</td>\n",
              "      <td>0.080475</td>\n",
              "      <td>0.322835</td>\n",
              "      <td>0.048413</td>\n",
              "      <td>0.596273</td>\n",
              "      <td>0.0</td>\n",
              "      <td>0.091837</td>\n",
              "      <td>0.018135</td>\n",
              "      <td>0.005149</td>\n",
              "      <td>0.017051</td>\n",
              "      <td>0.0</td>\n",
              "    </tr>\n",
              "    <tr>\n",
              "      <th>158450</th>\n",
              "      <td>0.994945</td>\n",
              "      <td>0.615385</td>\n",
              "      <td>0.454545</td>\n",
              "      <td>0.35</td>\n",
              "      <td>0.434211</td>\n",
              "      <td>0.091837</td>\n",
              "      <td>0.142857</td>\n",
              "      <td>0.0</td>\n",
              "      <td>0.0</td>\n",
              "      <td>0.389706</td>\n",
              "      <td>...</td>\n",
              "      <td>0.245383</td>\n",
              "      <td>0.275591</td>\n",
              "      <td>0.041420</td>\n",
              "      <td>0.695652</td>\n",
              "      <td>0.0</td>\n",
              "      <td>0.102041</td>\n",
              "      <td>0.032383</td>\n",
              "      <td>0.011672</td>\n",
              "      <td>0.044132</td>\n",
              "      <td>0.0</td>\n",
              "    </tr>\n",
              "    <tr>\n",
              "      <th>36023</th>\n",
              "      <td>0.226197</td>\n",
              "      <td>0.307692</td>\n",
              "      <td>0.454545</td>\n",
              "      <td>0.25</td>\n",
              "      <td>0.280263</td>\n",
              "      <td>0.112245</td>\n",
              "      <td>0.112245</td>\n",
              "      <td>0.0</td>\n",
              "      <td>0.0</td>\n",
              "      <td>0.308824</td>\n",
              "      <td>...</td>\n",
              "      <td>0.055409</td>\n",
              "      <td>0.433071</td>\n",
              "      <td>0.040882</td>\n",
              "      <td>0.496894</td>\n",
              "      <td>0.0</td>\n",
              "      <td>0.071429</td>\n",
              "      <td>0.018135</td>\n",
              "      <td>0.004806</td>\n",
              "      <td>0.022066</td>\n",
              "      <td>0.0</td>\n",
              "    </tr>\n",
              "  </tbody>\n",
              "</table>\n",
              "<p>5 rows × 23 columns</p>\n",
              "</div>\n",
              "    <div class=\"colab-df-buttons\">\n",
              "\n",
              "  <div class=\"colab-df-container\">\n",
              "    <button class=\"colab-df-convert\" onclick=\"convertToInteractive('df-ca90ab0a-7d32-4e3d-b5ac-815a84457469')\"\n",
              "            title=\"Convert this dataframe to an interactive table.\"\n",
              "            style=\"display:none;\">\n",
              "\n",
              "  <svg xmlns=\"http://www.w3.org/2000/svg\" height=\"24px\" viewBox=\"0 -960 960 960\">\n",
              "    <path d=\"M120-120v-720h720v720H120Zm60-500h600v-160H180v160Zm220 220h160v-160H400v160Zm0 220h160v-160H400v160ZM180-400h160v-160H180v160Zm440 0h160v-160H620v160ZM180-180h160v-160H180v160Zm440 0h160v-160H620v160Z\"/>\n",
              "  </svg>\n",
              "    </button>\n",
              "\n",
              "  <style>\n",
              "    .colab-df-container {\n",
              "      display:flex;\n",
              "      gap: 12px;\n",
              "    }\n",
              "\n",
              "    .colab-df-convert {\n",
              "      background-color: #E8F0FE;\n",
              "      border: none;\n",
              "      border-radius: 50%;\n",
              "      cursor: pointer;\n",
              "      display: none;\n",
              "      fill: #1967D2;\n",
              "      height: 32px;\n",
              "      padding: 0 0 0 0;\n",
              "      width: 32px;\n",
              "    }\n",
              "\n",
              "    .colab-df-convert:hover {\n",
              "      background-color: #E2EBFA;\n",
              "      box-shadow: 0px 1px 2px rgba(60, 64, 67, 0.3), 0px 1px 3px 1px rgba(60, 64, 67, 0.15);\n",
              "      fill: #174EA6;\n",
              "    }\n",
              "\n",
              "    .colab-df-buttons div {\n",
              "      margin-bottom: 4px;\n",
              "    }\n",
              "\n",
              "    [theme=dark] .colab-df-convert {\n",
              "      background-color: #3B4455;\n",
              "      fill: #D2E3FC;\n",
              "    }\n",
              "\n",
              "    [theme=dark] .colab-df-convert:hover {\n",
              "      background-color: #434B5C;\n",
              "      box-shadow: 0px 1px 3px 1px rgba(0, 0, 0, 0.15);\n",
              "      filter: drop-shadow(0px 1px 2px rgba(0, 0, 0, 0.3));\n",
              "      fill: #FFFFFF;\n",
              "    }\n",
              "  </style>\n",
              "\n",
              "    <script>\n",
              "      const buttonEl =\n",
              "        document.querySelector('#df-ca90ab0a-7d32-4e3d-b5ac-815a84457469 button.colab-df-convert');\n",
              "      buttonEl.style.display =\n",
              "        google.colab.kernel.accessAllowed ? 'block' : 'none';\n",
              "\n",
              "      async function convertToInteractive(key) {\n",
              "        const element = document.querySelector('#df-ca90ab0a-7d32-4e3d-b5ac-815a84457469');\n",
              "        const dataTable =\n",
              "          await google.colab.kernel.invokeFunction('convertToInteractive',\n",
              "                                                    [key], {});\n",
              "        if (!dataTable) return;\n",
              "\n",
              "        const docLinkHtml = 'Like what you see? Visit the ' +\n",
              "          '<a target=\"_blank\" href=https://colab.research.google.com/notebooks/data_table.ipynb>data table notebook</a>'\n",
              "          + ' to learn more about interactive tables.';\n",
              "        element.innerHTML = '';\n",
              "        dataTable['output_type'] = 'display_data';\n",
              "        await google.colab.output.renderOutput(dataTable, element);\n",
              "        const docLink = document.createElement('div');\n",
              "        docLink.innerHTML = docLinkHtml;\n",
              "        element.appendChild(docLink);\n",
              "      }\n",
              "    </script>\n",
              "  </div>\n",
              "\n",
              "\n",
              "<div id=\"df-4bf074b8-242a-4bf5-8445-07eadd78a95e\">\n",
              "  <button class=\"colab-df-quickchart\" onclick=\"quickchart('df-4bf074b8-242a-4bf5-8445-07eadd78a95e')\"\n",
              "            title=\"Suggest charts.\"\n",
              "            style=\"display:none;\">\n",
              "\n",
              "<svg xmlns=\"http://www.w3.org/2000/svg\" height=\"24px\"viewBox=\"0 0 24 24\"\n",
              "     width=\"24px\">\n",
              "    <g>\n",
              "        <path d=\"M19 3H5c-1.1 0-2 .9-2 2v14c0 1.1.9 2 2 2h14c1.1 0 2-.9 2-2V5c0-1.1-.9-2-2-2zM9 17H7v-7h2v7zm4 0h-2V7h2v10zm4 0h-2v-4h2v4z\"/>\n",
              "    </g>\n",
              "</svg>\n",
              "  </button>\n",
              "\n",
              "<style>\n",
              "  .colab-df-quickchart {\n",
              "      --bg-color: #E8F0FE;\n",
              "      --fill-color: #1967D2;\n",
              "      --hover-bg-color: #E2EBFA;\n",
              "      --hover-fill-color: #174EA6;\n",
              "      --disabled-fill-color: #AAA;\n",
              "      --disabled-bg-color: #DDD;\n",
              "  }\n",
              "\n",
              "  [theme=dark] .colab-df-quickchart {\n",
              "      --bg-color: #3B4455;\n",
              "      --fill-color: #D2E3FC;\n",
              "      --hover-bg-color: #434B5C;\n",
              "      --hover-fill-color: #FFFFFF;\n",
              "      --disabled-bg-color: #3B4455;\n",
              "      --disabled-fill-color: #666;\n",
              "  }\n",
              "\n",
              "  .colab-df-quickchart {\n",
              "    background-color: var(--bg-color);\n",
              "    border: none;\n",
              "    border-radius: 50%;\n",
              "    cursor: pointer;\n",
              "    display: none;\n",
              "    fill: var(--fill-color);\n",
              "    height: 32px;\n",
              "    padding: 0;\n",
              "    width: 32px;\n",
              "  }\n",
              "\n",
              "  .colab-df-quickchart:hover {\n",
              "    background-color: var(--hover-bg-color);\n",
              "    box-shadow: 0 1px 2px rgba(60, 64, 67, 0.3), 0 1px 3px 1px rgba(60, 64, 67, 0.15);\n",
              "    fill: var(--button-hover-fill-color);\n",
              "  }\n",
              "\n",
              "  .colab-df-quickchart-complete:disabled,\n",
              "  .colab-df-quickchart-complete:disabled:hover {\n",
              "    background-color: var(--disabled-bg-color);\n",
              "    fill: var(--disabled-fill-color);\n",
              "    box-shadow: none;\n",
              "  }\n",
              "\n",
              "  .colab-df-spinner {\n",
              "    border: 2px solid var(--fill-color);\n",
              "    border-color: transparent;\n",
              "    border-bottom-color: var(--fill-color);\n",
              "    animation:\n",
              "      spin 1s steps(1) infinite;\n",
              "  }\n",
              "\n",
              "  @keyframes spin {\n",
              "    0% {\n",
              "      border-color: transparent;\n",
              "      border-bottom-color: var(--fill-color);\n",
              "      border-left-color: var(--fill-color);\n",
              "    }\n",
              "    20% {\n",
              "      border-color: transparent;\n",
              "      border-left-color: var(--fill-color);\n",
              "      border-top-color: var(--fill-color);\n",
              "    }\n",
              "    30% {\n",
              "      border-color: transparent;\n",
              "      border-left-color: var(--fill-color);\n",
              "      border-top-color: var(--fill-color);\n",
              "      border-right-color: var(--fill-color);\n",
              "    }\n",
              "    40% {\n",
              "      border-color: transparent;\n",
              "      border-right-color: var(--fill-color);\n",
              "      border-top-color: var(--fill-color);\n",
              "    }\n",
              "    60% {\n",
              "      border-color: transparent;\n",
              "      border-right-color: var(--fill-color);\n",
              "    }\n",
              "    80% {\n",
              "      border-color: transparent;\n",
              "      border-right-color: var(--fill-color);\n",
              "      border-bottom-color: var(--fill-color);\n",
              "    }\n",
              "    90% {\n",
              "      border-color: transparent;\n",
              "      border-bottom-color: var(--fill-color);\n",
              "    }\n",
              "  }\n",
              "</style>\n",
              "\n",
              "  <script>\n",
              "    async function quickchart(key) {\n",
              "      const quickchartButtonEl =\n",
              "        document.querySelector('#' + key + ' button');\n",
              "      quickchartButtonEl.disabled = true;  // To prevent multiple clicks.\n",
              "      quickchartButtonEl.classList.add('colab-df-spinner');\n",
              "      try {\n",
              "        const charts = await google.colab.kernel.invokeFunction(\n",
              "            'suggestCharts', [key], {});\n",
              "      } catch (error) {\n",
              "        console.error('Error during call to suggestCharts:', error);\n",
              "      }\n",
              "      quickchartButtonEl.classList.remove('colab-df-spinner');\n",
              "      quickchartButtonEl.classList.add('colab-df-quickchart-complete');\n",
              "    }\n",
              "    (() => {\n",
              "      let quickchartButtonEl =\n",
              "        document.querySelector('#df-4bf074b8-242a-4bf5-8445-07eadd78a95e button');\n",
              "      quickchartButtonEl.style.display =\n",
              "        google.colab.kernel.accessAllowed ? 'block' : 'none';\n",
              "    })();\n",
              "  </script>\n",
              "</div>\n",
              "\n",
              "    </div>\n",
              "  </div>\n"
            ]
          },
          "metadata": {},
          "execution_count": 8
        }
      ]
    },
    {
      "cell_type": "code",
      "source": [
        "eval_normalized = (evaluate-x_train.min())/(x_train.max()-x_train.min())\n",
        "eval_normalized.sample(5)"
      ],
      "metadata": {
        "colab": {
          "base_uri": "https://localhost:8080/",
          "height": 273
        },
        "id": "uP59Ff1Sys5S",
        "outputId": "18e534ae-4a98-48dc-cbad-f2312fe17daf"
      },
      "execution_count": 9,
      "outputs": [
        {
          "output_type": "execute_result",
          "data": {
            "text/plain": [
              "             id       age  height(cm)  weight(kg)  waist(cm)  eyesight(left)  \\\n",
              "40764  1.255973  0.076923    0.636364        0.35   0.368421        0.051020   \n",
              "79855  1.501435  0.538462    0.545455        0.30   0.315789        0.112245   \n",
              "61130  1.383856  0.538462    0.545455        0.40   0.592105        0.051020   \n",
              "6811   1.042774  0.538462    0.272727        0.25   0.605263        0.081633   \n",
              "84559  1.530972  0.538462    0.727273        0.35   0.473684        0.142857   \n",
              "\n",
              "       eyesight(right)  hearing(left)  hearing(right)  systolic  ...  \\\n",
              "40764         0.081633            0.0             0.0  0.242647  ...   \n",
              "79855         0.112245            0.0             0.0  0.404412  ...   \n",
              "61130         0.142857            0.0             0.0  0.382353  ...   \n",
              "6811          0.081633            0.0             0.0  0.426471  ...   \n",
              "84559         0.081633            0.0             0.0  0.477941  ...   \n",
              "\n",
              "       triglyceride       HDL       LDL  hemoglobin  Urine protein  \\\n",
              "40764      0.251979  0.330709  0.053792    0.683230            0.0   \n",
              "79855      0.258575  0.299213  0.065627    0.639752            0.0   \n",
              "61130      0.125330  0.291339  0.078537    0.677019            0.0   \n",
              "6811       0.125330  0.385827  0.093061    0.503106            0.0   \n",
              "84559      0.365435  0.338583  0.047337    0.645963            0.0   \n",
              "\n",
              "       serum creatinine       AST       ALT       Gtp  dental caries  \n",
              "40764          0.091837  0.010363  0.006179  0.026078            0.0  \n",
              "79855          0.102041  0.034974  0.004463  0.048144            0.0  \n",
              "61130          0.071429  0.049223  0.023687  0.076229            0.0  \n",
              "6811           0.061224  0.012953  0.003090  0.022066            0.0  \n",
              "84559          0.102041  0.009067  0.004806  0.015045            0.0  \n",
              "\n",
              "[5 rows x 23 columns]"
            ],
            "text/html": [
              "\n",
              "  <div id=\"df-dfacf5de-2f70-4132-86cc-fe1a38bdd7fc\" class=\"colab-df-container\">\n",
              "    <div>\n",
              "<style scoped>\n",
              "    .dataframe tbody tr th:only-of-type {\n",
              "        vertical-align: middle;\n",
              "    }\n",
              "\n",
              "    .dataframe tbody tr th {\n",
              "        vertical-align: top;\n",
              "    }\n",
              "\n",
              "    .dataframe thead th {\n",
              "        text-align: right;\n",
              "    }\n",
              "</style>\n",
              "<table border=\"1\" class=\"dataframe\">\n",
              "  <thead>\n",
              "    <tr style=\"text-align: right;\">\n",
              "      <th></th>\n",
              "      <th>id</th>\n",
              "      <th>age</th>\n",
              "      <th>height(cm)</th>\n",
              "      <th>weight(kg)</th>\n",
              "      <th>waist(cm)</th>\n",
              "      <th>eyesight(left)</th>\n",
              "      <th>eyesight(right)</th>\n",
              "      <th>hearing(left)</th>\n",
              "      <th>hearing(right)</th>\n",
              "      <th>systolic</th>\n",
              "      <th>...</th>\n",
              "      <th>triglyceride</th>\n",
              "      <th>HDL</th>\n",
              "      <th>LDL</th>\n",
              "      <th>hemoglobin</th>\n",
              "      <th>Urine protein</th>\n",
              "      <th>serum creatinine</th>\n",
              "      <th>AST</th>\n",
              "      <th>ALT</th>\n",
              "      <th>Gtp</th>\n",
              "      <th>dental caries</th>\n",
              "    </tr>\n",
              "  </thead>\n",
              "  <tbody>\n",
              "    <tr>\n",
              "      <th>40764</th>\n",
              "      <td>1.255973</td>\n",
              "      <td>0.076923</td>\n",
              "      <td>0.636364</td>\n",
              "      <td>0.35</td>\n",
              "      <td>0.368421</td>\n",
              "      <td>0.051020</td>\n",
              "      <td>0.081633</td>\n",
              "      <td>0.0</td>\n",
              "      <td>0.0</td>\n",
              "      <td>0.242647</td>\n",
              "      <td>...</td>\n",
              "      <td>0.251979</td>\n",
              "      <td>0.330709</td>\n",
              "      <td>0.053792</td>\n",
              "      <td>0.683230</td>\n",
              "      <td>0.0</td>\n",
              "      <td>0.091837</td>\n",
              "      <td>0.010363</td>\n",
              "      <td>0.006179</td>\n",
              "      <td>0.026078</td>\n",
              "      <td>0.0</td>\n",
              "    </tr>\n",
              "    <tr>\n",
              "      <th>79855</th>\n",
              "      <td>1.501435</td>\n",
              "      <td>0.538462</td>\n",
              "      <td>0.545455</td>\n",
              "      <td>0.30</td>\n",
              "      <td>0.315789</td>\n",
              "      <td>0.112245</td>\n",
              "      <td>0.112245</td>\n",
              "      <td>0.0</td>\n",
              "      <td>0.0</td>\n",
              "      <td>0.404412</td>\n",
              "      <td>...</td>\n",
              "      <td>0.258575</td>\n",
              "      <td>0.299213</td>\n",
              "      <td>0.065627</td>\n",
              "      <td>0.639752</td>\n",
              "      <td>0.0</td>\n",
              "      <td>0.102041</td>\n",
              "      <td>0.034974</td>\n",
              "      <td>0.004463</td>\n",
              "      <td>0.048144</td>\n",
              "      <td>0.0</td>\n",
              "    </tr>\n",
              "    <tr>\n",
              "      <th>61130</th>\n",
              "      <td>1.383856</td>\n",
              "      <td>0.538462</td>\n",
              "      <td>0.545455</td>\n",
              "      <td>0.40</td>\n",
              "      <td>0.592105</td>\n",
              "      <td>0.051020</td>\n",
              "      <td>0.142857</td>\n",
              "      <td>0.0</td>\n",
              "      <td>0.0</td>\n",
              "      <td>0.382353</td>\n",
              "      <td>...</td>\n",
              "      <td>0.125330</td>\n",
              "      <td>0.291339</td>\n",
              "      <td>0.078537</td>\n",
              "      <td>0.677019</td>\n",
              "      <td>0.0</td>\n",
              "      <td>0.071429</td>\n",
              "      <td>0.049223</td>\n",
              "      <td>0.023687</td>\n",
              "      <td>0.076229</td>\n",
              "      <td>0.0</td>\n",
              "    </tr>\n",
              "    <tr>\n",
              "      <th>6811</th>\n",
              "      <td>1.042774</td>\n",
              "      <td>0.538462</td>\n",
              "      <td>0.272727</td>\n",
              "      <td>0.25</td>\n",
              "      <td>0.605263</td>\n",
              "      <td>0.081633</td>\n",
              "      <td>0.081633</td>\n",
              "      <td>0.0</td>\n",
              "      <td>0.0</td>\n",
              "      <td>0.426471</td>\n",
              "      <td>...</td>\n",
              "      <td>0.125330</td>\n",
              "      <td>0.385827</td>\n",
              "      <td>0.093061</td>\n",
              "      <td>0.503106</td>\n",
              "      <td>0.0</td>\n",
              "      <td>0.061224</td>\n",
              "      <td>0.012953</td>\n",
              "      <td>0.003090</td>\n",
              "      <td>0.022066</td>\n",
              "      <td>0.0</td>\n",
              "    </tr>\n",
              "    <tr>\n",
              "      <th>84559</th>\n",
              "      <td>1.530972</td>\n",
              "      <td>0.538462</td>\n",
              "      <td>0.727273</td>\n",
              "      <td>0.35</td>\n",
              "      <td>0.473684</td>\n",
              "      <td>0.142857</td>\n",
              "      <td>0.081633</td>\n",
              "      <td>0.0</td>\n",
              "      <td>0.0</td>\n",
              "      <td>0.477941</td>\n",
              "      <td>...</td>\n",
              "      <td>0.365435</td>\n",
              "      <td>0.338583</td>\n",
              "      <td>0.047337</td>\n",
              "      <td>0.645963</td>\n",
              "      <td>0.0</td>\n",
              "      <td>0.102041</td>\n",
              "      <td>0.009067</td>\n",
              "      <td>0.004806</td>\n",
              "      <td>0.015045</td>\n",
              "      <td>0.0</td>\n",
              "    </tr>\n",
              "  </tbody>\n",
              "</table>\n",
              "<p>5 rows × 23 columns</p>\n",
              "</div>\n",
              "    <div class=\"colab-df-buttons\">\n",
              "\n",
              "  <div class=\"colab-df-container\">\n",
              "    <button class=\"colab-df-convert\" onclick=\"convertToInteractive('df-dfacf5de-2f70-4132-86cc-fe1a38bdd7fc')\"\n",
              "            title=\"Convert this dataframe to an interactive table.\"\n",
              "            style=\"display:none;\">\n",
              "\n",
              "  <svg xmlns=\"http://www.w3.org/2000/svg\" height=\"24px\" viewBox=\"0 -960 960 960\">\n",
              "    <path d=\"M120-120v-720h720v720H120Zm60-500h600v-160H180v160Zm220 220h160v-160H400v160Zm0 220h160v-160H400v160ZM180-400h160v-160H180v160Zm440 0h160v-160H620v160ZM180-180h160v-160H180v160Zm440 0h160v-160H620v160Z\"/>\n",
              "  </svg>\n",
              "    </button>\n",
              "\n",
              "  <style>\n",
              "    .colab-df-container {\n",
              "      display:flex;\n",
              "      gap: 12px;\n",
              "    }\n",
              "\n",
              "    .colab-df-convert {\n",
              "      background-color: #E8F0FE;\n",
              "      border: none;\n",
              "      border-radius: 50%;\n",
              "      cursor: pointer;\n",
              "      display: none;\n",
              "      fill: #1967D2;\n",
              "      height: 32px;\n",
              "      padding: 0 0 0 0;\n",
              "      width: 32px;\n",
              "    }\n",
              "\n",
              "    .colab-df-convert:hover {\n",
              "      background-color: #E2EBFA;\n",
              "      box-shadow: 0px 1px 2px rgba(60, 64, 67, 0.3), 0px 1px 3px 1px rgba(60, 64, 67, 0.15);\n",
              "      fill: #174EA6;\n",
              "    }\n",
              "\n",
              "    .colab-df-buttons div {\n",
              "      margin-bottom: 4px;\n",
              "    }\n",
              "\n",
              "    [theme=dark] .colab-df-convert {\n",
              "      background-color: #3B4455;\n",
              "      fill: #D2E3FC;\n",
              "    }\n",
              "\n",
              "    [theme=dark] .colab-df-convert:hover {\n",
              "      background-color: #434B5C;\n",
              "      box-shadow: 0px 1px 3px 1px rgba(0, 0, 0, 0.15);\n",
              "      filter: drop-shadow(0px 1px 2px rgba(0, 0, 0, 0.3));\n",
              "      fill: #FFFFFF;\n",
              "    }\n",
              "  </style>\n",
              "\n",
              "    <script>\n",
              "      const buttonEl =\n",
              "        document.querySelector('#df-dfacf5de-2f70-4132-86cc-fe1a38bdd7fc button.colab-df-convert');\n",
              "      buttonEl.style.display =\n",
              "        google.colab.kernel.accessAllowed ? 'block' : 'none';\n",
              "\n",
              "      async function convertToInteractive(key) {\n",
              "        const element = document.querySelector('#df-dfacf5de-2f70-4132-86cc-fe1a38bdd7fc');\n",
              "        const dataTable =\n",
              "          await google.colab.kernel.invokeFunction('convertToInteractive',\n",
              "                                                    [key], {});\n",
              "        if (!dataTable) return;\n",
              "\n",
              "        const docLinkHtml = 'Like what you see? Visit the ' +\n",
              "          '<a target=\"_blank\" href=https://colab.research.google.com/notebooks/data_table.ipynb>data table notebook</a>'\n",
              "          + ' to learn more about interactive tables.';\n",
              "        element.innerHTML = '';\n",
              "        dataTable['output_type'] = 'display_data';\n",
              "        await google.colab.output.renderOutput(dataTable, element);\n",
              "        const docLink = document.createElement('div');\n",
              "        docLink.innerHTML = docLinkHtml;\n",
              "        element.appendChild(docLink);\n",
              "      }\n",
              "    </script>\n",
              "  </div>\n",
              "\n",
              "\n",
              "<div id=\"df-d231c91c-412f-4731-8d0c-ee9371dc2959\">\n",
              "  <button class=\"colab-df-quickchart\" onclick=\"quickchart('df-d231c91c-412f-4731-8d0c-ee9371dc2959')\"\n",
              "            title=\"Suggest charts.\"\n",
              "            style=\"display:none;\">\n",
              "\n",
              "<svg xmlns=\"http://www.w3.org/2000/svg\" height=\"24px\"viewBox=\"0 0 24 24\"\n",
              "     width=\"24px\">\n",
              "    <g>\n",
              "        <path d=\"M19 3H5c-1.1 0-2 .9-2 2v14c0 1.1.9 2 2 2h14c1.1 0 2-.9 2-2V5c0-1.1-.9-2-2-2zM9 17H7v-7h2v7zm4 0h-2V7h2v10zm4 0h-2v-4h2v4z\"/>\n",
              "    </g>\n",
              "</svg>\n",
              "  </button>\n",
              "\n",
              "<style>\n",
              "  .colab-df-quickchart {\n",
              "      --bg-color: #E8F0FE;\n",
              "      --fill-color: #1967D2;\n",
              "      --hover-bg-color: #E2EBFA;\n",
              "      --hover-fill-color: #174EA6;\n",
              "      --disabled-fill-color: #AAA;\n",
              "      --disabled-bg-color: #DDD;\n",
              "  }\n",
              "\n",
              "  [theme=dark] .colab-df-quickchart {\n",
              "      --bg-color: #3B4455;\n",
              "      --fill-color: #D2E3FC;\n",
              "      --hover-bg-color: #434B5C;\n",
              "      --hover-fill-color: #FFFFFF;\n",
              "      --disabled-bg-color: #3B4455;\n",
              "      --disabled-fill-color: #666;\n",
              "  }\n",
              "\n",
              "  .colab-df-quickchart {\n",
              "    background-color: var(--bg-color);\n",
              "    border: none;\n",
              "    border-radius: 50%;\n",
              "    cursor: pointer;\n",
              "    display: none;\n",
              "    fill: var(--fill-color);\n",
              "    height: 32px;\n",
              "    padding: 0;\n",
              "    width: 32px;\n",
              "  }\n",
              "\n",
              "  .colab-df-quickchart:hover {\n",
              "    background-color: var(--hover-bg-color);\n",
              "    box-shadow: 0 1px 2px rgba(60, 64, 67, 0.3), 0 1px 3px 1px rgba(60, 64, 67, 0.15);\n",
              "    fill: var(--button-hover-fill-color);\n",
              "  }\n",
              "\n",
              "  .colab-df-quickchart-complete:disabled,\n",
              "  .colab-df-quickchart-complete:disabled:hover {\n",
              "    background-color: var(--disabled-bg-color);\n",
              "    fill: var(--disabled-fill-color);\n",
              "    box-shadow: none;\n",
              "  }\n",
              "\n",
              "  .colab-df-spinner {\n",
              "    border: 2px solid var(--fill-color);\n",
              "    border-color: transparent;\n",
              "    border-bottom-color: var(--fill-color);\n",
              "    animation:\n",
              "      spin 1s steps(1) infinite;\n",
              "  }\n",
              "\n",
              "  @keyframes spin {\n",
              "    0% {\n",
              "      border-color: transparent;\n",
              "      border-bottom-color: var(--fill-color);\n",
              "      border-left-color: var(--fill-color);\n",
              "    }\n",
              "    20% {\n",
              "      border-color: transparent;\n",
              "      border-left-color: var(--fill-color);\n",
              "      border-top-color: var(--fill-color);\n",
              "    }\n",
              "    30% {\n",
              "      border-color: transparent;\n",
              "      border-left-color: var(--fill-color);\n",
              "      border-top-color: var(--fill-color);\n",
              "      border-right-color: var(--fill-color);\n",
              "    }\n",
              "    40% {\n",
              "      border-color: transparent;\n",
              "      border-right-color: var(--fill-color);\n",
              "      border-top-color: var(--fill-color);\n",
              "    }\n",
              "    60% {\n",
              "      border-color: transparent;\n",
              "      border-right-color: var(--fill-color);\n",
              "    }\n",
              "    80% {\n",
              "      border-color: transparent;\n",
              "      border-right-color: var(--fill-color);\n",
              "      border-bottom-color: var(--fill-color);\n",
              "    }\n",
              "    90% {\n",
              "      border-color: transparent;\n",
              "      border-bottom-color: var(--fill-color);\n",
              "    }\n",
              "  }\n",
              "</style>\n",
              "\n",
              "  <script>\n",
              "    async function quickchart(key) {\n",
              "      const quickchartButtonEl =\n",
              "        document.querySelector('#' + key + ' button');\n",
              "      quickchartButtonEl.disabled = true;  // To prevent multiple clicks.\n",
              "      quickchartButtonEl.classList.add('colab-df-spinner');\n",
              "      try {\n",
              "        const charts = await google.colab.kernel.invokeFunction(\n",
              "            'suggestCharts', [key], {});\n",
              "      } catch (error) {\n",
              "        console.error('Error during call to suggestCharts:', error);\n",
              "      }\n",
              "      quickchartButtonEl.classList.remove('colab-df-spinner');\n",
              "      quickchartButtonEl.classList.add('colab-df-quickchart-complete');\n",
              "    }\n",
              "    (() => {\n",
              "      let quickchartButtonEl =\n",
              "        document.querySelector('#df-d231c91c-412f-4731-8d0c-ee9371dc2959 button');\n",
              "      quickchartButtonEl.style.display =\n",
              "        google.colab.kernel.accessAllowed ? 'block' : 'none';\n",
              "    })();\n",
              "  </script>\n",
              "</div>\n",
              "\n",
              "    </div>\n",
              "  </div>\n"
            ]
          },
          "metadata": {},
          "execution_count": 9
        }
      ]
    },
    {
      "cell_type": "code",
      "source": [
        "def make_sequential(input_dim, hidden_dim, output_dim, dropout):\n",
        "    return torch.nn.Sequential(torch.nn.Linear(input_dim, hidden_dim), torch.nn.ReLU(), torch.nn.Dropout(p=dropout), torch.nn.Linear(hidden_dim, output_dim))"
      ],
      "metadata": {
        "id": "JPKKsM6f1ZIP"
      },
      "execution_count": 10,
      "outputs": []
    },
    {
      "cell_type": "code",
      "source": [
        "train_x_tensor = torch.FloatTensor(x_train_normalized.to_numpy())\n",
        "train_y_tensor = torch.FloatTensor(train[y_column].to_numpy())\n",
        "eval_x_tensor = torch.FloatTensor(eval_normalized.to_numpy())\n",
        "\n",
        "print(f\"train_x_tensor = {train_x_tensor.shape}\",f\"train_y_tensor = {train_y_tensor.shape}\",f\"eval_x_tensor = {eval_x_tensor.shape}\",sep=\"\\n\")\n",
        "print(train_x_tensor.min(),train_x_tensor.max())\n",
        "print(eval_x_tensor.min(),eval_x_tensor.max())"
      ],
      "metadata": {
        "colab": {
          "base_uri": "https://localhost:8080/"
        },
        "id": "gBA896dK1gNF",
        "outputId": "a116b9ba-2bac-4c0a-a1e4-4eb48e63d133"
      },
      "execution_count": 11,
      "outputs": [
        {
          "output_type": "stream",
          "name": "stdout",
          "text": [
            "train_x_tensor = torch.Size([159256, 23])\n",
            "train_y_tensor = torch.Size([159256, 1])\n",
            "eval_x_tensor = torch.Size([106171, 23])\n",
            "tensor(0.) tensor(1.)\n",
            "tensor(-0.0449) tensor(1.6667)\n"
          ]
        }
      ]
    },
    {
      "cell_type": "code",
      "source": [
        "def get_device():\n",
        "    device = \"cpu\"\n",
        "    if torch.cuda.is_available():\n",
        "      device = \"cuda:0\"\n",
        "    return device\n",
        "\n",
        "class SmokingDataset(torch.utils.data.Dataset):\n",
        "    def __init__(self,data,target=None):\n",
        "        self.data = data.to(get_device())\n",
        "\n",
        "        # Null coalesce the target to an empty of the expected shape.\n",
        "        target = target if torch.is_tensor(target) else torch.empty((len(data),1))\n",
        "        self.target = target.to(get_device())\n",
        "\n",
        "    def __getitem__(self, index):\n",
        "        x = self.data[index]\n",
        "        y = self.target[index]\n",
        "\n",
        "        return {'data': x, 'target': y}\n",
        "\n",
        "    def __len__(self):\n",
        "        return len(self.data)\n",
        "\n",
        "bsz = 512\n",
        "tr_x, ts_x, tr_y, ts_y = sklearn.model_selection.train_test_split(train_x_tensor, train_y_tensor)\n",
        "print(f\"tr_x = {tr_x.shape}\",f\"tr_y = {tr_y.shape}\",sep=\",\\t\")\n",
        "print(f\"ts_x = {ts_x.shape}\",f\"ts_y = {ts_y.shape}\",sep=\",\\t\")\n",
        "\n",
        "train_loader = torch.utils.data.DataLoader(SmokingDataset(tr_x,tr_y), batch_size=bsz)\n",
        "test_loader = torch.utils.data.DataLoader(SmokingDataset(ts_x,ts_y), batch_size=bsz)\n",
        "\n",
        "example_batch = next(iter(train_loader))\n",
        "example_batch[\"data\"].shape, example_batch[\"target\"].shape"
      ],
      "metadata": {
        "colab": {
          "base_uri": "https://localhost:8080/"
        },
        "id": "o8euduDO33iR",
        "outputId": "b013dd6f-5bc6-4a81-c776-73eb2fc55785"
      },
      "execution_count": 24,
      "outputs": [
        {
          "output_type": "stream",
          "name": "stdout",
          "text": [
            "tr_x = torch.Size([119442, 23]),\ttr_y = torch.Size([119442, 1])\n",
            "ts_x = torch.Size([39814, 23]),\tts_y = torch.Size([39814, 1])\n"
          ]
        },
        {
          "output_type": "execute_result",
          "data": {
            "text/plain": [
              "(torch.Size([512, 23]), torch.Size([512, 1]))"
            ]
          },
          "metadata": {},
          "execution_count": 24
        }
      ]
    },
    {
      "cell_type": "code",
      "source": [
        "def do_epoch(models,train_loader,test_loader):\n",
        "  model = models[\"model\"]\n",
        "  opt = models[\"opt\"]\n",
        "  loss_fn = models[\"loss_fn\"]\n",
        "  auroc_fn = models[\"auroc_fn\"]\n",
        "\n",
        "  for batch in train_loader:\n",
        "    opt.zero_grad()\n",
        "    fwd = model(batch[\"data\"])\n",
        "    loss = loss_fn(fwd,batch[\"target\"])\n",
        "    loss.backward()\n",
        "    opt.step()\n",
        "\n",
        "\n",
        "  with torch.no_grad():\n",
        "    ts_pred = []\n",
        "    ts_target = []\n",
        "    for batch in test_loader:\n",
        "      ts_pred.append(model(batch[\"data\"]))\n",
        "      ts_target.append(batch[\"target\"])\n",
        "\n",
        "  return auroc_fn(torch.cat(ts_pred),torch.cat(ts_target)).cpu().numpy()\n",
        "\n",
        "def get_config(trial):\n",
        "  return {\n",
        "    \"lr\": trial.suggest_float(\"lr\", 1e-10,1e-1,log=True),\n",
        "    \"dropout\": trial.suggest_float(\"dropout\", 0,1),\n",
        "    \"hidden_dim\": trial.suggest_int(\"hidden_dim\", 2,512,log=True),\n",
        "    \"epochs\": trial.suggest_int(\"epochs\",1,100),\n",
        "  }\n",
        "\n",
        "def make_models(config):\n",
        "  model = make_sequential(len(x_columns),64,1,0)\n",
        "  model.to(get_device())\n",
        "  return {\n",
        "    \"loss_fn\": torch.nn.BCEWithLogitsLoss(),\n",
        "    \"model\": model,\n",
        "    \"opt\": torch.optim.Adam(model.parameters()),\n",
        "    \"auroc_fn\": torchmetrics.AUROC(task=\"binary\"),\n",
        "  }\n",
        "\n",
        "def train_model(trial):\n",
        "  config = get_config(trial)\n",
        "\n",
        "  models = make_models(config)\n",
        "\n",
        "  for i in range(config[\"epochs\"]):\n",
        "    loss = do_epoch(models,train_loader,test_loader)\n",
        "\n",
        "    trial.report(loss, i)\n",
        "    if i % 10 == 0:\n",
        "      print(i,loss)\n",
        "    if trial.should_prune():\n",
        "        raise optuna.TrialPruned()\n",
        "\n",
        "  return loss"
      ],
      "metadata": {
        "id": "cVoV4Ec36ZAu"
      },
      "execution_count": 26,
      "outputs": []
    },
    {
      "cell_type": "code",
      "source": [
        "print(f\"Num GPUS = {torch.cuda.device_count()}\")"
      ],
      "metadata": {
        "colab": {
          "base_uri": "https://localhost:8080/"
        },
        "id": "RsZwFeprBwHQ",
        "outputId": "14bffa72-c29f-4528-e1e3-f0750c059f92"
      },
      "execution_count": 17,
      "outputs": [
        {
          "output_type": "stream",
          "name": "stdout",
          "text": [
            "Num GPUS = 1\n"
          ]
        }
      ]
    },
    {
      "cell_type": "code",
      "source": [
        "from functools import partial\n",
        "\n",
        "num_trials = 100\n",
        "\n",
        "study = optuna.create_study(\n",
        "    direction=\"maximize\",\n",
        "    pruner=optuna.pruners.SuccessiveHalvingPruner())\n",
        "study.optimize(train_model, n_trials=num_trials)\n",
        "\n",
        "print(\"DONE\")\n",
        "print(\"CONFIG:\", study.best_trial.params)\n",
        "print(\"METRICS:\", study.best_trial.values)"
      ],
      "metadata": {
        "colab": {
          "base_uri": "https://localhost:8080/"
        },
        "id": "q9dC2vCL_wnM",
        "outputId": "ace1e491-c8dc-4643-98b5-b873d608e281"
      },
      "execution_count": 27,
      "outputs": [
        {
          "output_type": "stream",
          "name": "stderr",
          "text": [
            "[I 2023-10-25 18:56:24,558] A new study created in memory with name: no-name-3417a7bc-c1a1-44fc-9cf3-80298cc1c35f\n"
          ]
        },
        {
          "output_type": "stream",
          "name": "stdout",
          "text": [
            "0 0.7943058\n",
            "10 0.84454393\n",
            "20 0.8485905\n",
            "30 0.8511181\n",
            "40 0.8527726\n",
            "50 0.853899\n",
            "60 0.8545434\n"
          ]
        },
        {
          "output_type": "stream",
          "name": "stderr",
          "text": [
            "[I 2023-10-25 18:58:11,286] Trial 0 finished with value: 0.8549607396125793 and parameters: {'lr': 2.581641812336888e-05, 'dropout': 0.6696736113868427, 'hidden_dim': 9, 'epochs': 71}. Best is trial 0 with value: 0.8549607396125793.\n"
          ]
        },
        {
          "output_type": "stream",
          "name": "stdout",
          "text": [
            "70 0.85496074\n",
            "0 0.79134107\n",
            "10 0.84451765\n",
            "20 0.8489367\n",
            "30 0.8518281\n"
          ]
        },
        {
          "output_type": "stream",
          "name": "stderr",
          "text": [
            "[I 2023-10-25 18:59:04,337] Trial 1 finished with value: 0.8529202938079834 and parameters: {'lr': 8.067035050286012e-09, 'dropout': 0.17697016398362753, 'hidden_dim': 291, 'epochs': 37}. Best is trial 0 with value: 0.8549607396125793.\n"
          ]
        },
        {
          "output_type": "stream",
          "name": "stdout",
          "text": [
            "0 0.7902155\n"
          ]
        },
        {
          "output_type": "stream",
          "name": "stderr",
          "text": [
            "[I 2023-10-25 18:59:07,253] Trial 2 pruned. \n"
          ]
        },
        {
          "output_type": "stream",
          "name": "stdout",
          "text": [
            "0 0.7912424\n"
          ]
        },
        {
          "output_type": "stream",
          "name": "stderr",
          "text": [
            "[I 2023-10-25 18:59:09,744] Trial 3 pruned. \n"
          ]
        },
        {
          "output_type": "stream",
          "name": "stdout",
          "text": [
            "0 0.79265535\n"
          ]
        },
        {
          "output_type": "stream",
          "name": "stderr",
          "text": [
            "[I 2023-10-25 18:59:16,304] Trial 4 pruned. \n"
          ]
        },
        {
          "output_type": "stream",
          "name": "stdout",
          "text": [
            "0 0.7964828\n",
            "10 0.84474623\n"
          ]
        },
        {
          "output_type": "stream",
          "name": "stderr",
          "text": [
            "[I 2023-10-25 18:59:40,353] Trial 5 pruned. \n"
          ]
        },
        {
          "output_type": "stream",
          "name": "stdout",
          "text": [
            "0 0.7916803\n"
          ]
        },
        {
          "output_type": "stream",
          "name": "stderr",
          "text": [
            "[I 2023-10-25 18:59:42,868] Trial 6 pruned. \n"
          ]
        },
        {
          "output_type": "stream",
          "name": "stdout",
          "text": [
            "0 0.7924568\n"
          ]
        },
        {
          "output_type": "stream",
          "name": "stderr",
          "text": [
            "[I 2023-10-25 18:59:46,620] Trial 7 pruned. \n"
          ]
        },
        {
          "output_type": "stream",
          "name": "stdout",
          "text": [
            "0 0.791418\n"
          ]
        },
        {
          "output_type": "stream",
          "name": "stderr",
          "text": [
            "[I 2023-10-25 18:59:49,504] Trial 8 pruned. \n"
          ]
        },
        {
          "output_type": "stream",
          "name": "stdout",
          "text": [
            "0 0.7929689\n"
          ]
        },
        {
          "output_type": "stream",
          "name": "stderr",
          "text": [
            "[I 2023-10-25 18:59:51,978] Trial 9 pruned. \n"
          ]
        },
        {
          "output_type": "stream",
          "name": "stdout",
          "text": [
            "0 0.7926894\n"
          ]
        },
        {
          "output_type": "stream",
          "name": "stderr",
          "text": [
            "[I 2023-10-25 18:59:54,436] Trial 10 pruned. \n"
          ]
        },
        {
          "output_type": "stream",
          "name": "stdout",
          "text": [
            "0 0.79280543\n"
          ]
        },
        {
          "output_type": "stream",
          "name": "stderr",
          "text": [
            "[I 2023-10-25 18:59:56,950] Trial 11 pruned. \n"
          ]
        },
        {
          "output_type": "stream",
          "name": "stdout",
          "text": [
            "0 0.795614\n"
          ]
        },
        {
          "output_type": "stream",
          "name": "stderr",
          "text": [
            "[I 2023-10-25 19:00:04,718] Trial 12 pruned. \n"
          ]
        },
        {
          "output_type": "stream",
          "name": "stdout",
          "text": [
            "0 0.7915083\n"
          ]
        },
        {
          "output_type": "stream",
          "name": "stderr",
          "text": [
            "[I 2023-10-25 19:00:07,247] Trial 13 pruned. \n"
          ]
        },
        {
          "output_type": "stream",
          "name": "stdout",
          "text": [
            "0 0.79322934\n"
          ]
        },
        {
          "output_type": "stream",
          "name": "stderr",
          "text": [
            "[I 2023-10-25 19:00:09,911] Trial 14 pruned. \n"
          ]
        },
        {
          "output_type": "stream",
          "name": "stdout",
          "text": [
            "0 0.7927892\n"
          ]
        },
        {
          "output_type": "stream",
          "name": "stderr",
          "text": [
            "[I 2023-10-25 19:00:12,927] Trial 15 pruned. \n",
            "[I 2023-10-25 19:00:14,835] Trial 16 finished with value: 0.7888992428779602 and parameters: {'lr': 2.785852085088353e-07, 'dropout': 0.17649076816936404, 'hidden_dim': 5, 'epochs': 1}. Best is trial 0 with value: 0.8549607396125793.\n"
          ]
        },
        {
          "output_type": "stream",
          "name": "stdout",
          "text": [
            "0 0.78889924\n",
            "0 0.7903775\n"
          ]
        },
        {
          "output_type": "stream",
          "name": "stderr",
          "text": [
            "[I 2023-10-25 19:00:17,796] Trial 17 pruned. \n"
          ]
        },
        {
          "output_type": "stream",
          "name": "stdout",
          "text": [
            "0 0.79264843\n"
          ]
        },
        {
          "output_type": "stream",
          "name": "stderr",
          "text": [
            "[I 2023-10-25 19:00:20,313] Trial 18 pruned. \n"
          ]
        },
        {
          "output_type": "stream",
          "name": "stdout",
          "text": [
            "0 0.79498005\n"
          ]
        },
        {
          "output_type": "stream",
          "name": "stderr",
          "text": [
            "[I 2023-10-25 19:00:27,278] Trial 19 pruned. \n"
          ]
        },
        {
          "output_type": "stream",
          "name": "stdout",
          "text": [
            "0 0.79232776\n"
          ]
        },
        {
          "output_type": "stream",
          "name": "stderr",
          "text": [
            "[I 2023-10-25 19:00:30,659] Trial 20 pruned. \n"
          ]
        },
        {
          "output_type": "stream",
          "name": "stdout",
          "text": [
            "0 0.79554677\n"
          ]
        },
        {
          "output_type": "stream",
          "name": "stderr",
          "text": [
            "[I 2023-10-25 19:00:36,976] Trial 21 finished with value: 0.8390755653381348 and parameters: {'lr': 2.2722696129164476e-07, 'dropout': 0.2010230462623756, 'hidden_dim': 7, 'epochs': 5}. Best is trial 0 with value: 0.8549607396125793.\n"
          ]
        },
        {
          "output_type": "stream",
          "name": "stdout",
          "text": [
            "0 0.79565936\n"
          ]
        },
        {
          "output_type": "stream",
          "name": "stderr",
          "text": [
            "[I 2023-10-25 19:00:45,324] Trial 22 pruned. \n"
          ]
        },
        {
          "output_type": "stream",
          "name": "stdout",
          "text": [
            "0 0.79013497\n"
          ]
        },
        {
          "output_type": "stream",
          "name": "stderr",
          "text": [
            "[I 2023-10-25 19:00:48,717] Trial 23 pruned. \n"
          ]
        },
        {
          "output_type": "stream",
          "name": "stdout",
          "text": [
            "0 0.7927717\n"
          ]
        },
        {
          "output_type": "stream",
          "name": "stderr",
          "text": [
            "[I 2023-10-25 19:00:51,200] Trial 24 pruned. \n"
          ]
        },
        {
          "output_type": "stream",
          "name": "stdout",
          "text": [
            "0 0.79317564\n"
          ]
        },
        {
          "output_type": "stream",
          "name": "stderr",
          "text": [
            "[I 2023-10-25 19:00:53,970] Trial 25 pruned. \n"
          ]
        },
        {
          "output_type": "stream",
          "name": "stdout",
          "text": [
            "0 0.794692\n"
          ]
        },
        {
          "output_type": "stream",
          "name": "stderr",
          "text": [
            "[I 2023-10-25 19:01:01,604] Trial 26 pruned. \n"
          ]
        },
        {
          "output_type": "stream",
          "name": "stdout",
          "text": [
            "0 0.7937367\n"
          ]
        },
        {
          "output_type": "stream",
          "name": "stderr",
          "text": [
            "[I 2023-10-25 19:01:04,301] Trial 27 pruned. \n"
          ]
        },
        {
          "output_type": "stream",
          "name": "stdout",
          "text": [
            "0 0.7942973\n"
          ]
        },
        {
          "output_type": "stream",
          "name": "stderr",
          "text": [
            "[I 2023-10-25 19:01:06,851] Trial 28 pruned. \n"
          ]
        },
        {
          "output_type": "stream",
          "name": "stdout",
          "text": [
            "0 0.7919263\n"
          ]
        },
        {
          "output_type": "stream",
          "name": "stderr",
          "text": [
            "[I 2023-10-25 19:01:10,285] Trial 29 pruned. \n"
          ]
        },
        {
          "output_type": "stream",
          "name": "stdout",
          "text": [
            "0 0.79134953\n"
          ]
        },
        {
          "output_type": "stream",
          "name": "stderr",
          "text": [
            "[I 2023-10-25 19:01:13,311] Trial 30 pruned. \n",
            "[I 2023-10-25 19:01:14,696] Trial 31 finished with value: 0.7929257154464722 and parameters: {'lr': 2.643682626803759e-07, 'dropout': 0.1912968807651359, 'hidden_dim': 5, 'epochs': 1}. Best is trial 0 with value: 0.8549607396125793.\n"
          ]
        },
        {
          "output_type": "stream",
          "name": "stdout",
          "text": [
            "0 0.7929257\n",
            "0 0.7911669\n"
          ]
        },
        {
          "output_type": "stream",
          "name": "stderr",
          "text": [
            "[I 2023-10-25 19:01:17,222] Trial 32 pruned. \n"
          ]
        },
        {
          "output_type": "stream",
          "name": "stdout",
          "text": [
            "0 0.79112357\n"
          ]
        },
        {
          "output_type": "stream",
          "name": "stderr",
          "text": [
            "[I 2023-10-25 19:01:19,750] Trial 33 pruned. \n"
          ]
        },
        {
          "output_type": "stream",
          "name": "stdout",
          "text": [
            "0 0.79453075\n"
          ]
        },
        {
          "output_type": "stream",
          "name": "stderr",
          "text": [
            "[I 2023-10-25 19:01:27,499] Trial 34 pruned. \n"
          ]
        },
        {
          "output_type": "stream",
          "name": "stdout",
          "text": [
            "0 0.7905394\n"
          ]
        },
        {
          "output_type": "stream",
          "name": "stderr",
          "text": [
            "[I 2023-10-25 19:01:30,138] Trial 35 pruned. \n"
          ]
        },
        {
          "output_type": "stream",
          "name": "stdout",
          "text": [
            "0 0.7914244\n"
          ]
        },
        {
          "output_type": "stream",
          "name": "stderr",
          "text": [
            "[I 2023-10-25 19:01:36,964] Trial 36 pruned. \n"
          ]
        },
        {
          "output_type": "stream",
          "name": "stdout",
          "text": [
            "0 0.7893919\n"
          ]
        },
        {
          "output_type": "stream",
          "name": "stderr",
          "text": [
            "[I 2023-10-25 19:01:40,428] Trial 37 pruned. \n"
          ]
        },
        {
          "output_type": "stream",
          "name": "stdout",
          "text": [
            "0 0.78939885\n"
          ]
        },
        {
          "output_type": "stream",
          "name": "stderr",
          "text": [
            "[I 2023-10-25 19:01:42,974] Trial 38 pruned. \n"
          ]
        },
        {
          "output_type": "stream",
          "name": "stdout",
          "text": [
            "0 0.7935398\n"
          ]
        },
        {
          "output_type": "stream",
          "name": "stderr",
          "text": [
            "[I 2023-10-25 19:01:49,295] Trial 39 pruned. \n"
          ]
        },
        {
          "output_type": "stream",
          "name": "stdout",
          "text": [
            "0 0.7929169\n"
          ]
        },
        {
          "output_type": "stream",
          "name": "stderr",
          "text": [
            "[I 2023-10-25 19:01:52,993] Trial 40 pruned. \n",
            "[I 2023-10-25 19:01:54,614] Trial 41 finished with value: 0.7893676161766052 and parameters: {'lr': 2.30483452590017e-07, 'dropout': 0.1623606979815323, 'hidden_dim': 5, 'epochs': 1}. Best is trial 0 with value: 0.8549607396125793.\n"
          ]
        },
        {
          "output_type": "stream",
          "name": "stdout",
          "text": [
            "0 0.7893676\n",
            "0 0.78765297\n"
          ]
        },
        {
          "output_type": "stream",
          "name": "stderr",
          "text": [
            "[I 2023-10-25 19:01:57,184] Trial 42 pruned. \n"
          ]
        },
        {
          "output_type": "stream",
          "name": "stdout",
          "text": [
            "0 0.7931962\n"
          ]
        },
        {
          "output_type": "stream",
          "name": "stderr",
          "text": [
            "[I 2023-10-25 19:02:07,369] Trial 43 finished with value: 0.8425572514533997 and parameters: {'lr': 2.8296992816864405e-07, 'dropout': 0.15528761209733477, 'hidden_dim': 7, 'epochs': 7}. Best is trial 0 with value: 0.8549607396125793.\n"
          ]
        },
        {
          "output_type": "stream",
          "name": "stdout",
          "text": [
            "0 0.791078\n"
          ]
        },
        {
          "output_type": "stream",
          "name": "stderr",
          "text": [
            "[I 2023-10-25 19:02:10,061] Trial 44 pruned. \n"
          ]
        },
        {
          "output_type": "stream",
          "name": "stdout",
          "text": [
            "0 0.79304624\n"
          ]
        },
        {
          "output_type": "stream",
          "name": "stderr",
          "text": [
            "[I 2023-10-25 19:02:12,737] Trial 45 pruned. \n"
          ]
        },
        {
          "output_type": "stream",
          "name": "stdout",
          "text": [
            "0 0.79536074\n"
          ]
        },
        {
          "output_type": "stream",
          "name": "stderr",
          "text": [
            "[I 2023-10-25 19:02:19,805] Trial 46 pruned. \n"
          ]
        },
        {
          "output_type": "stream",
          "name": "stdout",
          "text": [
            "0 0.7898091\n"
          ]
        },
        {
          "output_type": "stream",
          "name": "stderr",
          "text": [
            "[I 2023-10-25 19:02:23,049] Trial 47 pruned. \n"
          ]
        },
        {
          "output_type": "stream",
          "name": "stdout",
          "text": [
            "0 0.7940501\n"
          ]
        },
        {
          "output_type": "stream",
          "name": "stderr",
          "text": [
            "[I 2023-10-25 19:02:29,381] Trial 48 pruned. \n"
          ]
        },
        {
          "output_type": "stream",
          "name": "stdout",
          "text": [
            "0 0.7949441\n"
          ]
        },
        {
          "output_type": "stream",
          "name": "stderr",
          "text": [
            "[I 2023-10-25 19:02:37,177] Trial 49 pruned. \n"
          ]
        },
        {
          "output_type": "stream",
          "name": "stdout",
          "text": [
            "0 0.79220873\n"
          ]
        },
        {
          "output_type": "stream",
          "name": "stderr",
          "text": [
            "[I 2023-10-25 19:02:39,685] Trial 50 pruned. \n"
          ]
        },
        {
          "output_type": "stream",
          "name": "stdout",
          "text": [
            "0 0.7915129\n"
          ]
        },
        {
          "output_type": "stream",
          "name": "stderr",
          "text": [
            "[I 2023-10-25 19:02:42,205] Trial 51 pruned. \n"
          ]
        },
        {
          "output_type": "stream",
          "name": "stdout",
          "text": [
            "0 0.7928479\n"
          ]
        },
        {
          "output_type": "stream",
          "name": "stderr",
          "text": [
            "[I 2023-10-25 19:02:44,765] Trial 52 pruned. \n"
          ]
        },
        {
          "output_type": "stream",
          "name": "stdout",
          "text": [
            "0 0.7918725\n"
          ]
        },
        {
          "output_type": "stream",
          "name": "stderr",
          "text": [
            "[I 2023-10-25 19:02:48,342] Trial 53 pruned. \n",
            "[I 2023-10-25 19:02:50,091] Trial 54 finished with value: 0.7955328226089478 and parameters: {'lr': 3.0348674930900555e-07, 'dropout': 0.10125137383594175, 'hidden_dim': 5, 'epochs': 1}. Best is trial 0 with value: 0.8549607396125793.\n"
          ]
        },
        {
          "output_type": "stream",
          "name": "stdout",
          "text": [
            "0 0.7955328\n",
            "0 0.79545116\n"
          ]
        },
        {
          "output_type": "stream",
          "name": "stderr",
          "text": [
            "[I 2023-10-25 19:02:56,427] Trial 55 pruned. \n"
          ]
        },
        {
          "output_type": "stream",
          "name": "stdout",
          "text": [
            "0 0.79147744\n"
          ]
        },
        {
          "output_type": "stream",
          "name": "stderr",
          "text": [
            "[I 2023-10-25 19:02:58,976] Trial 56 pruned. \n"
          ]
        },
        {
          "output_type": "stream",
          "name": "stdout",
          "text": [
            "0 0.79103094\n"
          ]
        },
        {
          "output_type": "stream",
          "name": "stderr",
          "text": [
            "[I 2023-10-25 19:03:02,708] Trial 57 pruned. \n"
          ]
        },
        {
          "output_type": "stream",
          "name": "stdout",
          "text": [
            "0 0.79225355\n"
          ]
        },
        {
          "output_type": "stream",
          "name": "stderr",
          "text": [
            "[I 2023-10-25 19:03:05,729] Trial 58 pruned. \n"
          ]
        },
        {
          "output_type": "stream",
          "name": "stdout",
          "text": [
            "0 0.79198897\n"
          ]
        },
        {
          "output_type": "stream",
          "name": "stderr",
          "text": [
            "[I 2023-10-25 19:03:08,271] Trial 59 pruned. \n"
          ]
        },
        {
          "output_type": "stream",
          "name": "stdout",
          "text": [
            "0 0.7924731\n"
          ]
        },
        {
          "output_type": "stream",
          "name": "stderr",
          "text": [
            "[I 2023-10-25 19:03:10,826] Trial 60 pruned. \n"
          ]
        },
        {
          "output_type": "stream",
          "name": "stdout",
          "text": [
            "0 0.7903615\n"
          ]
        },
        {
          "output_type": "stream",
          "name": "stderr",
          "text": [
            "[I 2023-10-25 19:03:13,378] Trial 61 pruned. \n",
            "[I 2023-10-25 19:03:15,252] Trial 62 finished with value: 0.7922473549842834 and parameters: {'lr': 3.3181726041088417e-07, 'dropout': 0.11222059728148889, 'hidden_dim': 5, 'epochs': 1}. Best is trial 0 with value: 0.8549607396125793.\n"
          ]
        },
        {
          "output_type": "stream",
          "name": "stdout",
          "text": [
            "0 0.79224735\n",
            "0 0.791121\n"
          ]
        },
        {
          "output_type": "stream",
          "name": "stderr",
          "text": [
            "[I 2023-10-25 19:03:18,776] Trial 63 pruned. \n"
          ]
        },
        {
          "output_type": "stream",
          "name": "stdout",
          "text": [
            "0 0.79636455\n"
          ]
        },
        {
          "output_type": "stream",
          "name": "stderr",
          "text": [
            "[I 2023-10-25 19:03:25,155] Trial 64 pruned. \n"
          ]
        },
        {
          "output_type": "stream",
          "name": "stdout",
          "text": [
            "0 0.7908243\n"
          ]
        },
        {
          "output_type": "stream",
          "name": "stderr",
          "text": [
            "[I 2023-10-25 19:03:27,700] Trial 65 pruned. \n",
            "[I 2023-10-25 19:03:29,655] Trial 66 finished with value: 0.7952557802200317 and parameters: {'lr': 9.224071948300176e-09, 'dropout': 0.28398134165165406, 'hidden_dim': 6, 'epochs': 1}. Best is trial 0 with value: 0.8549607396125793.\n"
          ]
        },
        {
          "output_type": "stream",
          "name": "stdout",
          "text": [
            "0 0.7952558\n",
            "0 0.7903448\n"
          ]
        },
        {
          "output_type": "stream",
          "name": "stderr",
          "text": [
            "[I 2023-10-25 19:03:33,030] Trial 67 pruned. \n"
          ]
        },
        {
          "output_type": "stream",
          "name": "stdout",
          "text": [
            "0 0.79495543\n"
          ]
        },
        {
          "output_type": "stream",
          "name": "stderr",
          "text": [
            "[I 2023-10-25 19:03:39,475] Trial 68 pruned. \n"
          ]
        },
        {
          "output_type": "stream",
          "name": "stdout",
          "text": [
            "0 0.794494\n"
          ]
        },
        {
          "output_type": "stream",
          "name": "stderr",
          "text": [
            "[I 2023-10-25 19:03:42,048] Trial 69 pruned. \n"
          ]
        },
        {
          "output_type": "stream",
          "name": "stdout",
          "text": [
            "0 0.79342604\n"
          ]
        },
        {
          "output_type": "stream",
          "name": "stderr",
          "text": [
            "[I 2023-10-25 19:03:49,827] Trial 70 pruned. \n",
            "[I 2023-10-25 19:03:51,169] Trial 71 finished with value: 0.7917929887771606 and parameters: {'lr': 3.037791916382126e-08, 'dropout': 0.18766430633592635, 'hidden_dim': 8, 'epochs': 1}. Best is trial 0 with value: 0.8549607396125793.\n"
          ]
        },
        {
          "output_type": "stream",
          "name": "stdout",
          "text": [
            "0 0.791793\n",
            "0 0.7895907\n"
          ]
        },
        {
          "output_type": "stream",
          "name": "stderr",
          "text": [
            "[I 2023-10-25 19:03:53,700] Trial 72 pruned. \n"
          ]
        },
        {
          "output_type": "stream",
          "name": "stdout",
          "text": [
            "0 0.7889635\n"
          ]
        },
        {
          "output_type": "stream",
          "name": "stderr",
          "text": [
            "[I 2023-10-25 19:03:56,349] Trial 73 pruned. \n"
          ]
        },
        {
          "output_type": "stream",
          "name": "stdout",
          "text": [
            "0 0.7949847\n"
          ]
        },
        {
          "output_type": "stream",
          "name": "stderr",
          "text": [
            "[I 2023-10-25 19:04:04,014] Trial 74 pruned. \n"
          ]
        },
        {
          "output_type": "stream",
          "name": "stdout",
          "text": [
            "0 0.79351455\n"
          ]
        },
        {
          "output_type": "stream",
          "name": "stderr",
          "text": [
            "[I 2023-10-25 19:04:10,633] Trial 75 pruned. \n"
          ]
        },
        {
          "output_type": "stream",
          "name": "stdout",
          "text": [
            "0 0.7932161\n"
          ]
        },
        {
          "output_type": "stream",
          "name": "stderr",
          "text": [
            "[I 2023-10-25 19:04:18,293] Trial 76 pruned. \n"
          ]
        },
        {
          "output_type": "stream",
          "name": "stdout",
          "text": [
            "0 0.7943598\n"
          ]
        },
        {
          "output_type": "stream",
          "name": "stderr",
          "text": [
            "[I 2023-10-25 19:04:20,986] Trial 77 pruned. \n"
          ]
        },
        {
          "output_type": "stream",
          "name": "stdout",
          "text": [
            "0 0.7942841\n"
          ]
        },
        {
          "output_type": "stream",
          "name": "stderr",
          "text": [
            "[I 2023-10-25 19:04:23,534] Trial 78 pruned. \n",
            "[I 2023-10-25 19:04:25,166] Trial 79 finished with value: 0.7916431427001953 and parameters: {'lr': 6.74110544725923e-09, 'dropout': 0.2835332835741834, 'hidden_dim': 82, 'epochs': 1}. Best is trial 0 with value: 0.8549607396125793.\n"
          ]
        },
        {
          "output_type": "stream",
          "name": "stdout",
          "text": [
            "0 0.79164314\n",
            "0 0.79483247\n",
            "10 0.844724\n"
          ]
        },
        {
          "output_type": "stream",
          "name": "stderr",
          "text": [
            "[I 2023-10-25 19:04:49,523] Trial 80 pruned. \n"
          ]
        },
        {
          "output_type": "stream",
          "name": "stdout",
          "text": [
            "0 0.792585\n"
          ]
        },
        {
          "output_type": "stream",
          "name": "stderr",
          "text": [
            "[I 2023-10-25 19:04:52,062] Trial 81 pruned. \n"
          ]
        },
        {
          "output_type": "stream",
          "name": "stdout",
          "text": [
            "0 0.7928003\n"
          ]
        },
        {
          "output_type": "stream",
          "name": "stderr",
          "text": [
            "[I 2023-10-25 19:04:55,904] Trial 82 pruned. \n",
            "[I 2023-10-25 19:04:57,707] Trial 83 finished with value: 0.7951949834823608 and parameters: {'lr': 9.598855690305358e-08, 'dropout': 0.1511214824335933, 'hidden_dim': 10, 'epochs': 1}. Best is trial 0 with value: 0.8549607396125793.\n"
          ]
        },
        {
          "output_type": "stream",
          "name": "stdout",
          "text": [
            "0 0.795195\n",
            "0 0.7906735\n"
          ]
        },
        {
          "output_type": "stream",
          "name": "stderr",
          "text": [
            "[I 2023-10-25 19:05:01,329] Trial 84 pruned. \n"
          ]
        },
        {
          "output_type": "stream",
          "name": "stdout",
          "text": [
            "0 0.7934369\n"
          ]
        },
        {
          "output_type": "stream",
          "name": "stderr",
          "text": [
            "[I 2023-10-25 19:05:03,897] Trial 85 pruned. \n",
            "[I 2023-10-25 19:05:05,265] Trial 86 finished with value: 0.7905162572860718 and parameters: {'lr': 6.942896155445906e-08, 'dropout': 0.13883505122741718, 'hidden_dim': 12, 'epochs': 1}. Best is trial 0 with value: 0.8549607396125793.\n"
          ]
        },
        {
          "output_type": "stream",
          "name": "stdout",
          "text": [
            "0 0.79051626\n",
            "0 0.7921301\n"
          ]
        },
        {
          "output_type": "stream",
          "name": "stderr",
          "text": [
            "[I 2023-10-25 19:05:08,800] Trial 87 pruned. \n"
          ]
        },
        {
          "output_type": "stream",
          "name": "stdout",
          "text": [
            "0 0.7927003\n"
          ]
        },
        {
          "output_type": "stream",
          "name": "stderr",
          "text": [
            "[I 2023-10-25 19:05:11,862] Trial 88 pruned. \n"
          ]
        },
        {
          "output_type": "stream",
          "name": "stdout",
          "text": [
            "0 0.7902204\n"
          ]
        },
        {
          "output_type": "stream",
          "name": "stderr",
          "text": [
            "[I 2023-10-25 19:05:14,423] Trial 89 pruned. \n"
          ]
        },
        {
          "output_type": "stream",
          "name": "stdout",
          "text": [
            "0 0.79381436\n"
          ]
        },
        {
          "output_type": "stream",
          "name": "stderr",
          "text": [
            "[I 2023-10-25 19:05:21,090] Trial 90 pruned. \n",
            "[I 2023-10-25 19:05:23,184] Trial 91 finished with value: 0.792019248008728 and parameters: {'lr': 2.3296170474500767e-08, 'dropout': 0.15404899696688215, 'hidden_dim': 9, 'epochs': 1}. Best is trial 0 with value: 0.8549607396125793.\n"
          ]
        },
        {
          "output_type": "stream",
          "name": "stdout",
          "text": [
            "0 0.79201925\n",
            "0 0.7949717\n"
          ]
        },
        {
          "output_type": "stream",
          "name": "stderr",
          "text": [
            "[I 2023-10-25 19:05:26,144] Trial 92 pruned. \n"
          ]
        },
        {
          "output_type": "stream",
          "name": "stdout",
          "text": [
            "0 0.79414475\n"
          ]
        },
        {
          "output_type": "stream",
          "name": "stderr",
          "text": [
            "[I 2023-10-25 19:05:28,669] Trial 93 pruned. \n"
          ]
        },
        {
          "output_type": "stream",
          "name": "stdout",
          "text": [
            "0 0.79382396\n"
          ]
        },
        {
          "output_type": "stream",
          "name": "stderr",
          "text": [
            "[I 2023-10-25 19:05:35,599] Trial 94 pruned. \n"
          ]
        },
        {
          "output_type": "stream",
          "name": "stdout",
          "text": [
            "0 0.7940377\n"
          ]
        },
        {
          "output_type": "stream",
          "name": "stderr",
          "text": [
            "[I 2023-10-25 19:05:42,961] Trial 95 pruned. \n"
          ]
        },
        {
          "output_type": "stream",
          "name": "stdout",
          "text": [
            "0 0.7916778\n"
          ]
        },
        {
          "output_type": "stream",
          "name": "stderr",
          "text": [
            "[I 2023-10-25 19:05:45,511] Trial 96 pruned. \n"
          ]
        },
        {
          "output_type": "stream",
          "name": "stdout",
          "text": [
            "0 0.790746\n"
          ]
        },
        {
          "output_type": "stream",
          "name": "stderr",
          "text": [
            "[I 2023-10-25 19:05:48,195] Trial 97 pruned. \n",
            "[I 2023-10-25 19:05:50,053] Trial 98 finished with value: 0.7889877557754517 and parameters: {'lr': 1.1089624420834413e-08, 'dropout': 0.0497203335741003, 'hidden_dim': 13, 'epochs': 1}. Best is trial 0 with value: 0.8549607396125793.\n"
          ]
        },
        {
          "output_type": "stream",
          "name": "stdout",
          "text": [
            "0 0.78898776\n",
            "0 0.78879035\n"
          ]
        },
        {
          "output_type": "stream",
          "name": "stderr",
          "text": [
            "[I 2023-10-25 19:05:53,415] Trial 99 pruned. \n"
          ]
        },
        {
          "output_type": "stream",
          "name": "stdout",
          "text": [
            "DONE\n",
            "CONFIG: {'lr': 2.581641812336888e-05, 'dropout': 0.6696736113868427, 'hidden_dim': 9, 'epochs': 71}\n",
            "METRICS: [0.8549607396125793]\n"
          ]
        }
      ]
    },
    {
      "cell_type": "code",
      "source": [
        "# Need to remember to make submission predictions with logits\n",
        "all_loader = torch.utils.data.DataLoader(SmokingDataset(train_x_tensor,train_y_tensor), batch_size=bsz)\n",
        "eval_loader = torch.utils.data.DataLoader(SmokingDataset(eval_x_tensor), batch_size=bsz)\n",
        "\n",
        "models = make_models(study.best_trial.params)\n",
        "for epoch in range(study.best_trial.params[\"epochs\"]):\n",
        "  loss = do_epoch(models,all_loader,all_loader)\n",
        "  print(loss)\n",
        "\n",
        "eval_pred = []\n",
        "with torch.no_grad():\n",
        "  for batch in eval_loader:\n",
        "    eval_pred.append(models[\"model\"](batch[\"data\"]))\n",
        "eval_prob = torch.nn.functional.sigmoid(torch.cat(eval_pred)).squeeze().cpu()\n",
        "print(f\"eval_prob = {eval_prob.shape} w/ final loss = {loss}\")\n",
        "\n",
        "submission = pd.DataFrame({\"id\" : evaluate.id, \"smoking\" : eval_prob}).set_index(\"id\")\n",
        "display(submission)\n",
        "submission.to_csv(os.path.join(input_dir, \"Submissions\", \"first.csv\"))\n",
        "print(\"Made submission!\")"
      ],
      "metadata": {
        "colab": {
          "base_uri": "https://localhost:8080/",
          "height": 1000
        },
        "id": "bV3wHWlZ-362",
        "outputId": "31b03aca-a3ab-49b4-fc1c-3d1ce473f758"
      },
      "execution_count": 30,
      "outputs": [
        {
          "output_type": "stream",
          "name": "stdout",
          "text": [
            "0.791667\n",
            "0.804515\n",
            "0.81221354\n",
            "0.8175106\n",
            "0.82242584\n",
            "0.826885\n",
            "0.8307671\n",
            "0.8337908\n",
            "0.83618164\n",
            "0.8382227\n",
            "0.83982193\n",
            "0.8413987\n",
            "0.8427477\n",
            "0.8441514\n",
            "0.845156\n",
            "0.8460775\n",
            "0.846949\n",
            "0.8476507\n",
            "0.8482284\n",
            "0.84874016\n",
            "0.8492071\n",
            "0.84964013\n",
            "0.85005945\n",
            "0.8503725\n",
            "0.85074484\n",
            "0.85106707\n",
            "0.8514121\n",
            "0.85168606\n",
            "0.85189843\n",
            "0.85216004\n",
            "0.85235924\n",
            "0.8525857\n",
            "0.852823\n",
            "0.8529938\n",
            "0.8531134\n",
            "0.853216\n",
            "0.85339797\n",
            "0.8535762\n",
            "0.8537128\n",
            "0.8538149\n",
            "0.8540041\n",
            "0.8541497\n",
            "0.8542941\n",
            "0.8544691\n",
            "0.85463715\n",
            "0.8547028\n",
            "0.85485375\n",
            "0.8548567\n",
            "0.85498375\n",
            "0.8550711\n",
            "0.85514414\n",
            "0.8551978\n",
            "0.85525537\n",
            "0.8553271\n",
            "0.855448\n",
            "0.85543525\n",
            "0.8555581\n",
            "0.85561574\n",
            "0.855662\n",
            "0.85570943\n",
            "0.85579246\n",
            "0.8558397\n",
            "0.8559147\n",
            "0.85595703\n",
            "0.8559885\n",
            "0.85605824\n",
            "0.856125\n",
            "0.85619485\n",
            "0.8562278\n",
            "0.85630155\n",
            "0.8563665\n",
            "eval_prob = torch.Size([106171]) w/ final loss = 0.8563665151596069\n"
          ]
        },
        {
          "output_type": "display_data",
          "data": {
            "text/plain": [
              "         smoking\n",
              "id              \n",
              "159256  0.475550\n",
              "159257  0.238837\n",
              "159258  0.409325\n",
              "159259  0.031529\n",
              "159260  0.593042\n",
              "...          ...\n",
              "265422  0.485163\n",
              "265423  0.589207\n",
              "265424  0.328573\n",
              "265425  0.062907\n",
              "265426  0.008498\n",
              "\n",
              "[106171 rows x 1 columns]"
            ],
            "text/html": [
              "\n",
              "  <div id=\"df-300ac1e6-511f-49df-ac20-e80e404a9d63\" class=\"colab-df-container\">\n",
              "    <div>\n",
              "<style scoped>\n",
              "    .dataframe tbody tr th:only-of-type {\n",
              "        vertical-align: middle;\n",
              "    }\n",
              "\n",
              "    .dataframe tbody tr th {\n",
              "        vertical-align: top;\n",
              "    }\n",
              "\n",
              "    .dataframe thead th {\n",
              "        text-align: right;\n",
              "    }\n",
              "</style>\n",
              "<table border=\"1\" class=\"dataframe\">\n",
              "  <thead>\n",
              "    <tr style=\"text-align: right;\">\n",
              "      <th></th>\n",
              "      <th>smoking</th>\n",
              "    </tr>\n",
              "    <tr>\n",
              "      <th>id</th>\n",
              "      <th></th>\n",
              "    </tr>\n",
              "  </thead>\n",
              "  <tbody>\n",
              "    <tr>\n",
              "      <th>159256</th>\n",
              "      <td>0.475550</td>\n",
              "    </tr>\n",
              "    <tr>\n",
              "      <th>159257</th>\n",
              "      <td>0.238837</td>\n",
              "    </tr>\n",
              "    <tr>\n",
              "      <th>159258</th>\n",
              "      <td>0.409325</td>\n",
              "    </tr>\n",
              "    <tr>\n",
              "      <th>159259</th>\n",
              "      <td>0.031529</td>\n",
              "    </tr>\n",
              "    <tr>\n",
              "      <th>159260</th>\n",
              "      <td>0.593042</td>\n",
              "    </tr>\n",
              "    <tr>\n",
              "      <th>...</th>\n",
              "      <td>...</td>\n",
              "    </tr>\n",
              "    <tr>\n",
              "      <th>265422</th>\n",
              "      <td>0.485163</td>\n",
              "    </tr>\n",
              "    <tr>\n",
              "      <th>265423</th>\n",
              "      <td>0.589207</td>\n",
              "    </tr>\n",
              "    <tr>\n",
              "      <th>265424</th>\n",
              "      <td>0.328573</td>\n",
              "    </tr>\n",
              "    <tr>\n",
              "      <th>265425</th>\n",
              "      <td>0.062907</td>\n",
              "    </tr>\n",
              "    <tr>\n",
              "      <th>265426</th>\n",
              "      <td>0.008498</td>\n",
              "    </tr>\n",
              "  </tbody>\n",
              "</table>\n",
              "<p>106171 rows × 1 columns</p>\n",
              "</div>\n",
              "    <div class=\"colab-df-buttons\">\n",
              "\n",
              "  <div class=\"colab-df-container\">\n",
              "    <button class=\"colab-df-convert\" onclick=\"convertToInteractive('df-300ac1e6-511f-49df-ac20-e80e404a9d63')\"\n",
              "            title=\"Convert this dataframe to an interactive table.\"\n",
              "            style=\"display:none;\">\n",
              "\n",
              "  <svg xmlns=\"http://www.w3.org/2000/svg\" height=\"24px\" viewBox=\"0 -960 960 960\">\n",
              "    <path d=\"M120-120v-720h720v720H120Zm60-500h600v-160H180v160Zm220 220h160v-160H400v160Zm0 220h160v-160H400v160ZM180-400h160v-160H180v160Zm440 0h160v-160H620v160ZM180-180h160v-160H180v160Zm440 0h160v-160H620v160Z\"/>\n",
              "  </svg>\n",
              "    </button>\n",
              "\n",
              "  <style>\n",
              "    .colab-df-container {\n",
              "      display:flex;\n",
              "      gap: 12px;\n",
              "    }\n",
              "\n",
              "    .colab-df-convert {\n",
              "      background-color: #E8F0FE;\n",
              "      border: none;\n",
              "      border-radius: 50%;\n",
              "      cursor: pointer;\n",
              "      display: none;\n",
              "      fill: #1967D2;\n",
              "      height: 32px;\n",
              "      padding: 0 0 0 0;\n",
              "      width: 32px;\n",
              "    }\n",
              "\n",
              "    .colab-df-convert:hover {\n",
              "      background-color: #E2EBFA;\n",
              "      box-shadow: 0px 1px 2px rgba(60, 64, 67, 0.3), 0px 1px 3px 1px rgba(60, 64, 67, 0.15);\n",
              "      fill: #174EA6;\n",
              "    }\n",
              "\n",
              "    .colab-df-buttons div {\n",
              "      margin-bottom: 4px;\n",
              "    }\n",
              "\n",
              "    [theme=dark] .colab-df-convert {\n",
              "      background-color: #3B4455;\n",
              "      fill: #D2E3FC;\n",
              "    }\n",
              "\n",
              "    [theme=dark] .colab-df-convert:hover {\n",
              "      background-color: #434B5C;\n",
              "      box-shadow: 0px 1px 3px 1px rgba(0, 0, 0, 0.15);\n",
              "      filter: drop-shadow(0px 1px 2px rgba(0, 0, 0, 0.3));\n",
              "      fill: #FFFFFF;\n",
              "    }\n",
              "  </style>\n",
              "\n",
              "    <script>\n",
              "      const buttonEl =\n",
              "        document.querySelector('#df-300ac1e6-511f-49df-ac20-e80e404a9d63 button.colab-df-convert');\n",
              "      buttonEl.style.display =\n",
              "        google.colab.kernel.accessAllowed ? 'block' : 'none';\n",
              "\n",
              "      async function convertToInteractive(key) {\n",
              "        const element = document.querySelector('#df-300ac1e6-511f-49df-ac20-e80e404a9d63');\n",
              "        const dataTable =\n",
              "          await google.colab.kernel.invokeFunction('convertToInteractive',\n",
              "                                                    [key], {});\n",
              "        if (!dataTable) return;\n",
              "\n",
              "        const docLinkHtml = 'Like what you see? Visit the ' +\n",
              "          '<a target=\"_blank\" href=https://colab.research.google.com/notebooks/data_table.ipynb>data table notebook</a>'\n",
              "          + ' to learn more about interactive tables.';\n",
              "        element.innerHTML = '';\n",
              "        dataTable['output_type'] = 'display_data';\n",
              "        await google.colab.output.renderOutput(dataTable, element);\n",
              "        const docLink = document.createElement('div');\n",
              "        docLink.innerHTML = docLinkHtml;\n",
              "        element.appendChild(docLink);\n",
              "      }\n",
              "    </script>\n",
              "  </div>\n",
              "\n",
              "\n",
              "<div id=\"df-3528fbd6-3ae8-47ee-9250-16190e869682\">\n",
              "  <button class=\"colab-df-quickchart\" onclick=\"quickchart('df-3528fbd6-3ae8-47ee-9250-16190e869682')\"\n",
              "            title=\"Suggest charts.\"\n",
              "            style=\"display:none;\">\n",
              "\n",
              "<svg xmlns=\"http://www.w3.org/2000/svg\" height=\"24px\"viewBox=\"0 0 24 24\"\n",
              "     width=\"24px\">\n",
              "    <g>\n",
              "        <path d=\"M19 3H5c-1.1 0-2 .9-2 2v14c0 1.1.9 2 2 2h14c1.1 0 2-.9 2-2V5c0-1.1-.9-2-2-2zM9 17H7v-7h2v7zm4 0h-2V7h2v10zm4 0h-2v-4h2v4z\"/>\n",
              "    </g>\n",
              "</svg>\n",
              "  </button>\n",
              "\n",
              "<style>\n",
              "  .colab-df-quickchart {\n",
              "      --bg-color: #E8F0FE;\n",
              "      --fill-color: #1967D2;\n",
              "      --hover-bg-color: #E2EBFA;\n",
              "      --hover-fill-color: #174EA6;\n",
              "      --disabled-fill-color: #AAA;\n",
              "      --disabled-bg-color: #DDD;\n",
              "  }\n",
              "\n",
              "  [theme=dark] .colab-df-quickchart {\n",
              "      --bg-color: #3B4455;\n",
              "      --fill-color: #D2E3FC;\n",
              "      --hover-bg-color: #434B5C;\n",
              "      --hover-fill-color: #FFFFFF;\n",
              "      --disabled-bg-color: #3B4455;\n",
              "      --disabled-fill-color: #666;\n",
              "  }\n",
              "\n",
              "  .colab-df-quickchart {\n",
              "    background-color: var(--bg-color);\n",
              "    border: none;\n",
              "    border-radius: 50%;\n",
              "    cursor: pointer;\n",
              "    display: none;\n",
              "    fill: var(--fill-color);\n",
              "    height: 32px;\n",
              "    padding: 0;\n",
              "    width: 32px;\n",
              "  }\n",
              "\n",
              "  .colab-df-quickchart:hover {\n",
              "    background-color: var(--hover-bg-color);\n",
              "    box-shadow: 0 1px 2px rgba(60, 64, 67, 0.3), 0 1px 3px 1px rgba(60, 64, 67, 0.15);\n",
              "    fill: var(--button-hover-fill-color);\n",
              "  }\n",
              "\n",
              "  .colab-df-quickchart-complete:disabled,\n",
              "  .colab-df-quickchart-complete:disabled:hover {\n",
              "    background-color: var(--disabled-bg-color);\n",
              "    fill: var(--disabled-fill-color);\n",
              "    box-shadow: none;\n",
              "  }\n",
              "\n",
              "  .colab-df-spinner {\n",
              "    border: 2px solid var(--fill-color);\n",
              "    border-color: transparent;\n",
              "    border-bottom-color: var(--fill-color);\n",
              "    animation:\n",
              "      spin 1s steps(1) infinite;\n",
              "  }\n",
              "\n",
              "  @keyframes spin {\n",
              "    0% {\n",
              "      border-color: transparent;\n",
              "      border-bottom-color: var(--fill-color);\n",
              "      border-left-color: var(--fill-color);\n",
              "    }\n",
              "    20% {\n",
              "      border-color: transparent;\n",
              "      border-left-color: var(--fill-color);\n",
              "      border-top-color: var(--fill-color);\n",
              "    }\n",
              "    30% {\n",
              "      border-color: transparent;\n",
              "      border-left-color: var(--fill-color);\n",
              "      border-top-color: var(--fill-color);\n",
              "      border-right-color: var(--fill-color);\n",
              "    }\n",
              "    40% {\n",
              "      border-color: transparent;\n",
              "      border-right-color: var(--fill-color);\n",
              "      border-top-color: var(--fill-color);\n",
              "    }\n",
              "    60% {\n",
              "      border-color: transparent;\n",
              "      border-right-color: var(--fill-color);\n",
              "    }\n",
              "    80% {\n",
              "      border-color: transparent;\n",
              "      border-right-color: var(--fill-color);\n",
              "      border-bottom-color: var(--fill-color);\n",
              "    }\n",
              "    90% {\n",
              "      border-color: transparent;\n",
              "      border-bottom-color: var(--fill-color);\n",
              "    }\n",
              "  }\n",
              "</style>\n",
              "\n",
              "  <script>\n",
              "    async function quickchart(key) {\n",
              "      const quickchartButtonEl =\n",
              "        document.querySelector('#' + key + ' button');\n",
              "      quickchartButtonEl.disabled = true;  // To prevent multiple clicks.\n",
              "      quickchartButtonEl.classList.add('colab-df-spinner');\n",
              "      try {\n",
              "        const charts = await google.colab.kernel.invokeFunction(\n",
              "            'suggestCharts', [key], {});\n",
              "      } catch (error) {\n",
              "        console.error('Error during call to suggestCharts:', error);\n",
              "      }\n",
              "      quickchartButtonEl.classList.remove('colab-df-spinner');\n",
              "      quickchartButtonEl.classList.add('colab-df-quickchart-complete');\n",
              "    }\n",
              "    (() => {\n",
              "      let quickchartButtonEl =\n",
              "        document.querySelector('#df-3528fbd6-3ae8-47ee-9250-16190e869682 button');\n",
              "      quickchartButtonEl.style.display =\n",
              "        google.colab.kernel.accessAllowed ? 'block' : 'none';\n",
              "    })();\n",
              "  </script>\n",
              "</div>\n",
              "\n",
              "  <div id=\"id_04ab2fd2-0007-4772-83a7-df31eddc1227\">\n",
              "    <style>\n",
              "      .colab-df-generate {\n",
              "        background-color: #E8F0FE;\n",
              "        border: none;\n",
              "        border-radius: 50%;\n",
              "        cursor: pointer;\n",
              "        display: none;\n",
              "        fill: #1967D2;\n",
              "        height: 32px;\n",
              "        padding: 0 0 0 0;\n",
              "        width: 32px;\n",
              "      }\n",
              "\n",
              "      .colab-df-generate:hover {\n",
              "        background-color: #E2EBFA;\n",
              "        box-shadow: 0px 1px 2px rgba(60, 64, 67, 0.3), 0px 1px 3px 1px rgba(60, 64, 67, 0.15);\n",
              "        fill: #174EA6;\n",
              "      }\n",
              "\n",
              "      [theme=dark] .colab-df-generate {\n",
              "        background-color: #3B4455;\n",
              "        fill: #D2E3FC;\n",
              "      }\n",
              "\n",
              "      [theme=dark] .colab-df-generate:hover {\n",
              "        background-color: #434B5C;\n",
              "        box-shadow: 0px 1px 3px 1px rgba(0, 0, 0, 0.15);\n",
              "        filter: drop-shadow(0px 1px 2px rgba(0, 0, 0, 0.3));\n",
              "        fill: #FFFFFF;\n",
              "      }\n",
              "    </style>\n",
              "    <button class=\"colab-df-generate\" onclick=\"generateWithVariable('submission')\"\n",
              "            title=\"Generate code using this dataframe.\"\n",
              "            style=\"display:none;\">\n",
              "\n",
              "  <svg xmlns=\"http://www.w3.org/2000/svg\" height=\"24px\"viewBox=\"0 0 24 24\"\n",
              "       width=\"24px\">\n",
              "    <path d=\"M7,19H8.4L18.45,9,17,7.55,7,17.6ZM5,21V16.75L18.45,3.32a2,2,0,0,1,2.83,0l1.4,1.43a1.91,1.91,0,0,1,.58,1.4,1.91,1.91,0,0,1-.58,1.4L9.25,21ZM18.45,9,17,7.55Zm-12,3A5.31,5.31,0,0,0,4.9,8.1,5.31,5.31,0,0,0,1,6.5,5.31,5.31,0,0,0,4.9,4.9,5.31,5.31,0,0,0,6.5,1,5.31,5.31,0,0,0,8.1,4.9,5.31,5.31,0,0,0,12,6.5,5.46,5.46,0,0,0,6.5,12Z\"/>\n",
              "  </svg>\n",
              "    </button>\n",
              "    <script>\n",
              "      (() => {\n",
              "      const buttonEl =\n",
              "        document.querySelector('#id_04ab2fd2-0007-4772-83a7-df31eddc1227 button.colab-df-generate');\n",
              "      buttonEl.style.display =\n",
              "        google.colab.kernel.accessAllowed ? 'block' : 'none';\n",
              "\n",
              "      buttonEl.onclick = () => {\n",
              "        google.colab.notebook.generateWithVariable('submission');\n",
              "      }\n",
              "      })();\n",
              "    </script>\n",
              "  </div>\n",
              "\n",
              "    </div>\n",
              "  </div>\n"
            ]
          },
          "metadata": {}
        },
        {
          "output_type": "stream",
          "name": "stdout",
          "text": [
            "Made submission!\n"
          ]
        }
      ]
    }
  ]
}